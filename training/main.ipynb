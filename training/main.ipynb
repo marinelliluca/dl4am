{
 "cells": [
  {
   "cell_type": "markdown",
   "id": "republican-comparative",
   "metadata": {},
   "source": [
    "# Training main:\n",
    "\n",
    "take from cyanite notebook the interface to observe tags distribution and create datasets\n"
   ]
  },
  {
   "cell_type": "code",
   "execution_count": 1,
   "id": "fuzzy-roulette",
   "metadata": {},
   "outputs": [],
   "source": [
    "import numpy as np\n",
    "import torch\n",
    "import torch.nn as nn\n",
    "import torch.nn.functional as F\n",
    "from sklearn import metrics\n",
    "from torch.autograd import Variable\n",
    "\n",
    "from frontend import Frontend_mine, Frontend_won\n",
    "from backend import Backend\n",
    "from data_loader import get_DataLoader\n",
    "\n",
    "main_dict = {\"frontend_dict\":\n",
    "             {\"list_out_channels\":[128,128,128,256,256,256], \n",
    "              \"list_kernel_sizes\":[(5,5),(5,5),(3,3),(3,3),(3,3),(3,3)],\n",
    "              \"list_pool_sizes\":  [(3,2),(2,2),(2,2),(2,1),(2,1),(2,1)], \n",
    "              \"list_avgpool_flags\":[False,False,False,False,False,True]},\n",
    "             \n",
    "             \"backend_dict\":\n",
    "             {\"n_class\":50,\n",
    "              \"bert_config\":None, \n",
    "              \"recurrent_units\":2}} # pass None to deactivate"
   ]
  },
  {
   "cell_type": "code",
   "execution_count": 2,
   "id": "intense-ultimate",
   "metadata": {},
   "outputs": [],
   "source": [
    "class CRNNSA(nn.Module):\n",
    "    \n",
    "    \"\"\"\n",
    "    TODO: explore whether \"rec_unit -> self_att -> rec_unit\"\n",
    "    would have worked better.\n",
    "    \"\"\"\n",
    "    \n",
    "    # BERT-based Convolutional Recurrent Neural Network\n",
    "    # Code adopted from https://github.com/minzwon/sota-music-tagging-models/\n",
    "    def __init__(self, main_dict=None, backend=None, frontend=None):\n",
    "        super(CRNNSA, self).__init__()\n",
    "        \n",
    "\n",
    "        if main_dict is not None:\n",
    "            self.frontend = Frontend_mine(main_dict[\"frontend_dict\"])\n",
    "            self.backend = Backend(main_dict)\n",
    "        else:\n",
    "            self.frontend = frontend\n",
    "            self.backend = backend\n",
    "\n",
    "\n",
    "    def forward(self, spec):\n",
    "        \n",
    "        x = self.backend(self.frontend(spec))\n",
    "        \n",
    "        return x"
   ]
  },
  {
   "cell_type": "code",
   "execution_count": 3,
   "id": "virgin-timothy",
   "metadata": {},
   "outputs": [
    {
     "name": "stdout",
     "output_type": "stream",
     "text": [
      "CRNNSA(\n",
      "  (frontend): Frontend_mine(\n",
      "    (spec_bn): BatchNorm2d(1, eps=1e-05, momentum=0.1, affine=True, track_running_stats=True)\n",
      "    (conv_block1): BlockChoi(\n",
      "      (conv): Conv2dSame(1, 128, kernel_size=(5, 5), stride=(1, 1))\n",
      "      (bn): BatchNorm2d(128, eps=1e-05, momentum=0.1, affine=True, track_running_stats=True)\n",
      "      (activation): ELU(alpha=1.0)\n",
      "      (pool): MaxPool2d(kernel_size=(3, 2), stride=(3, 2), padding=0, dilation=1, ceil_mode=False)\n",
      "      (dropout): Dropout(p=0.1, inplace=False)\n",
      "    )\n",
      "    (conv_block2): BlockChoi(\n",
      "      (conv): Conv2dSame(128, 128, kernel_size=(5, 5), stride=(1, 1))\n",
      "      (bn): BatchNorm2d(128, eps=1e-05, momentum=0.1, affine=True, track_running_stats=True)\n",
      "      (activation): ELU(alpha=1.0)\n",
      "      (pool): MaxPool2d(kernel_size=(2, 2), stride=(2, 2), padding=0, dilation=1, ceil_mode=False)\n",
      "      (dropout): Dropout(p=0.1, inplace=False)\n",
      "    )\n",
      "    (conv_block3): BlockChoi(\n",
      "      (conv): Conv2dSame(128, 128, kernel_size=(3, 3), stride=(1, 1))\n",
      "      (bn): BatchNorm2d(128, eps=1e-05, momentum=0.1, affine=True, track_running_stats=True)\n",
      "      (activation): ELU(alpha=1.0)\n",
      "      (pool): MaxPool2d(kernel_size=(2, 2), stride=(2, 2), padding=0, dilation=1, ceil_mode=False)\n",
      "      (dropout): Dropout(p=0.1, inplace=False)\n",
      "    )\n",
      "    (conv_block4): BlockChoi(\n",
      "      (conv): Conv2dSame(128, 256, kernel_size=(3, 3), stride=(1, 1))\n",
      "      (bn): BatchNorm2d(256, eps=1e-05, momentum=0.1, affine=True, track_running_stats=True)\n",
      "      (activation): ELU(alpha=1.0)\n",
      "      (pool): MaxPool2d(kernel_size=(2, 1), stride=(2, 1), padding=0, dilation=1, ceil_mode=False)\n",
      "      (dropout): Dropout(p=0.1, inplace=False)\n",
      "    )\n",
      "    (conv_block5): BlockChoi(\n",
      "      (conv): Conv2dSame(256, 256, kernel_size=(3, 3), stride=(1, 1))\n",
      "      (bn): BatchNorm2d(256, eps=1e-05, momentum=0.1, affine=True, track_running_stats=True)\n",
      "      (activation): ELU(alpha=1.0)\n",
      "      (pool): MaxPool2d(kernel_size=(2, 1), stride=(2, 1), padding=0, dilation=1, ceil_mode=False)\n",
      "      (dropout): Dropout(p=0.1, inplace=False)\n",
      "    )\n",
      "    (conv_block6): BlockChoi(\n",
      "      (conv): Conv2dSame(256, 256, kernel_size=(3, 3), stride=(1, 1))\n",
      "      (bn): BatchNorm2d(256, eps=1e-05, momentum=0.1, affine=True, track_running_stats=True)\n",
      "      (activation): ELU(alpha=1.0)\n",
      "      (pool): AvgPool2d(kernel_size=(2, 1), stride=(2, 1), padding=0)\n",
      "      (dropout): Dropout(p=0.1, inplace=False)\n",
      "    )\n",
      "  )\n",
      "  (backend): Backend(\n",
      "    (seq2seq): GRU(256, 256, num_layers=2, batch_first=True)\n",
      "    (dropout1): Dropout(p=0.1, inplace=False)\n",
      "    (encoder): BertEncoder(\n",
      "      (layer): ModuleList(\n",
      "        (0): BertLayer(\n",
      "          (attention): BertAttention(\n",
      "            (self): BertSelfAttention(\n",
      "              (query): Linear(in_features=256, out_features=256, bias=True)\n",
      "              (key): Linear(in_features=256, out_features=256, bias=True)\n",
      "              (value): Linear(in_features=256, out_features=256, bias=True)\n",
      "              (dropout): Dropout(p=0.5, inplace=False)\n",
      "            )\n",
      "            (output): BertSelfOutput(\n",
      "              (dense): Linear(in_features=256, out_features=256, bias=True)\n",
      "              (LayerNorm): BertLayerNorm()\n",
      "              (dropout): Dropout(p=0.4, inplace=False)\n",
      "            )\n",
      "          )\n",
      "          (intermediate): BertIntermediate(\n",
      "            (dense): Linear(in_features=256, out_features=1024, bias=True)\n",
      "          )\n",
      "          (output): BertOutput(\n",
      "            (dense): Linear(in_features=1024, out_features=256, bias=True)\n",
      "            (LayerNorm): BertLayerNorm()\n",
      "            (dropout): Dropout(p=0.4, inplace=False)\n",
      "          )\n",
      "        )\n",
      "        (1): BertLayer(\n",
      "          (attention): BertAttention(\n",
      "            (self): BertSelfAttention(\n",
      "              (query): Linear(in_features=256, out_features=256, bias=True)\n",
      "              (key): Linear(in_features=256, out_features=256, bias=True)\n",
      "              (value): Linear(in_features=256, out_features=256, bias=True)\n",
      "              (dropout): Dropout(p=0.5, inplace=False)\n",
      "            )\n",
      "            (output): BertSelfOutput(\n",
      "              (dense): Linear(in_features=256, out_features=256, bias=True)\n",
      "              (LayerNorm): BertLayerNorm()\n",
      "              (dropout): Dropout(p=0.4, inplace=False)\n",
      "            )\n",
      "          )\n",
      "          (intermediate): BertIntermediate(\n",
      "            (dense): Linear(in_features=256, out_features=1024, bias=True)\n",
      "          )\n",
      "          (output): BertOutput(\n",
      "            (dense): Linear(in_features=1024, out_features=256, bias=True)\n",
      "            (LayerNorm): BertLayerNorm()\n",
      "            (dropout): Dropout(p=0.4, inplace=False)\n",
      "          )\n",
      "        )\n",
      "      )\n",
      "    )\n",
      "    (pooler): BertPooler(\n",
      "      (dense): Linear(in_features=256, out_features=256, bias=True)\n",
      "      (activation): Tanh()\n",
      "    )\n",
      "    (dropout2): Dropout(p=0.5, inplace=False)\n",
      "    (dense): Linear(in_features=256, out_features=50, bias=True)\n",
      "  )\n",
      ")\n"
     ]
    }
   ],
   "source": [
    "crnnsa = CRNNSA(main_dict)\n",
    "print(crnnsa)"
   ]
  },
  {
   "cell_type": "code",
   "execution_count": 4,
   "id": "statutory-referral",
   "metadata": {},
   "outputs": [],
   "source": [
    "spec = torch.FloatTensor(np.load(\"/import/c4dm-datasets/rmri_self_att/msd/1/1/113801.npy\")[np.newaxis,np.newaxis,:,:])"
   ]
  },
  {
   "cell_type": "code",
   "execution_count": 5,
   "id": "southeast-training",
   "metadata": {},
   "outputs": [
    {
     "data": {
      "text/plain": [
       "torch.Size([1, 50])"
      ]
     },
     "execution_count": 5,
     "metadata": {},
     "output_type": "execute_result"
    }
   ],
   "source": [
    "crnnsa(spec).shape"
   ]
  },
  {
   "cell_type": "code",
   "execution_count": 6,
   "id": "legitimate-sharing",
   "metadata": {},
   "outputs": [],
   "source": [
    "dataLoader = get_DataLoader(batch_size=1, mode=\"valid\")"
   ]
  },
  {
   "cell_type": "code",
   "execution_count": 7,
   "id": "alpine-absence",
   "metadata": {},
   "outputs": [
    {
     "name": "stdout",
     "output_type": "stream",
     "text": [
      "torch.Size([1, 1, 96, 937])\n",
      "torch.Size([1, 50])\n",
      "torch.Size([1, 256, 117])\n",
      "torch.Size([1, 50])\n"
     ]
    }
   ],
   "source": [
    "for x,y in dataLoader:\n",
    "    print(x.shape)\n",
    "    print(y.shape)\n",
    "    print(crnnsa.frontend(x).shape)\n",
    "    print(crnnsa(x).shape)\n",
    "    break"
   ]
  },
  {
   "cell_type": "code",
   "execution_count": 8,
   "id": "organizational-protocol",
   "metadata": {},
   "outputs": [
    {
     "name": "stdout",
     "output_type": "stream",
     "text": [
      "2038274\n",
      "2447666\n",
      "789504\n"
     ]
    }
   ],
   "source": [
    "print(sum(p.numel() for p in crnnsa.frontend.parameters() if p.requires_grad))\n",
    "print(sum(p.numel() for p in crnnsa.backend.parameters() if p.requires_grad))\n",
    "print(sum(p.numel() for p in crnnsa.backend.seq2seq.parameters() if p.requires_grad))"
   ]
  },
  {
   "cell_type": "markdown",
   "id": "dated-netherlands",
   "metadata": {},
   "source": [
    "# TODO:\n",
    "\n",
    "Find out which dimension represent batch, sequence, embedding, in the TransformerEncoder input"
   ]
  },
  {
   "cell_type": "code",
   "execution_count": 11,
   "id": "underlying-franklin",
   "metadata": {},
   "outputs": [],
   "source": [
    "encoder_layer = nn.TransformerEncoderLayer(d_model=512, nhead=8)\n",
    "transformer_encoder = nn.TransformerEncoder(encoder_layer, num_layers=6)\n",
    "src = torch.rand(10, 32, 512)\n",
    "out = transformer_encoder(src)"
   ]
  },
  {
   "cell_type": "code",
   "execution_count": 10,
   "id": "changing-basis",
   "metadata": {},
   "outputs": [
    {
     "data": {
      "text/plain": [
       "torch.Size([10, 32, 512])"
      ]
     },
     "execution_count": 10,
     "metadata": {},
     "output_type": "execute_result"
    }
   ],
   "source": [
    "out.shape"
   ]
  },
  {
   "cell_type": "code",
   "execution_count": null,
   "id": "stuck-flesh",
   "metadata": {},
   "outputs": [],
   "source": [
    "class BertPooler(nn.Module):\n",
    "    def __init__(self, \n",
    "                 config, \n",
    "                 activation=None):\n",
    "        super(BertPooler, self).__init__()\n",
    "        self.dense = nn.Linear(config.hidden_size, config.hidden_size)\n",
    "        \n",
    "        self.activation = nn.Tanh() if activation is None else activation\n",
    "\n",
    "    def forward(self, hidden_states):\n",
    "        # We \"pool\" the model by simply taking the hidden state corresponding\n",
    "        # to the first token.\n",
    "        first_token_tensor = hidden_states[:, 0]\n",
    "        pooled_output = self.dense(first_token_tensor)\n",
    "        pooled_output = self.activation(pooled_output)\n",
    "        return pooled_output"
   ]
  }
 ],
 "metadata": {
  "kernelspec": {
   "display_name": "dl4am",
   "language": "python",
   "name": "dl4am"
  },
  "language_info": {
   "codemirror_mode": {
    "name": "ipython",
    "version": 3
   },
   "file_extension": ".py",
   "mimetype": "text/x-python",
   "name": "python",
   "nbconvert_exporter": "python",
   "pygments_lexer": "ipython3",
   "version": "3.6.6"
  }
 },
 "nbformat": 4,
 "nbformat_minor": 5
}
