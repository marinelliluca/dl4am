{
 "cells": [
  {
   "cell_type": "markdown",
   "id": "attractive-tooth",
   "metadata": {},
   "source": [
    "# Training main:\n",
    "\n",
    "take from cyanite notebook the interface to observe tags distribution and create datasets\n"
   ]
  },
  {
   "cell_type": "code",
   "execution_count": 1,
   "id": "alone-birthday",
   "metadata": {},
   "outputs": [],
   "source": [
    "import numpy as np\n",
    "import torch\n",
    "import torch.nn as nn\n",
    "import torch.nn.functional as F\n",
    "from sklearn import metrics\n",
    "from torch.autograd import Variable\n",
    "\n",
    "from frontend import Frontend_mine, Frontend_won\n",
    "from backend import Backend, Backend2\n",
    "from data_loader import get_DataLoader\n",
    "\n",
    "main_dict = {\"frontend_dict\":\n",
    "             {\"list_out_channels\":[128,128,128,256,256,256], \n",
    "              \"list_kernel_sizes\":[(3,3),(3,3),(3,3),(3,3),(3,3),(3,3)],\n",
    "              \"list_pool_sizes\":  [(3,2),(2,2),(2,2),(2,1),(2,1),(2,1)], \n",
    "              \"list_avgpool_flags\":[False,False,False,False,False,True]},\n",
    "             \n",
    "             \"backend_dict\":\n",
    "             {\"n_class\":50,\n",
    "              \"bert_config\":None, \n",
    "              \"recurrent_units\":2}} # pass None to deactivate"
   ]
  },
  {
   "cell_type": "code",
   "execution_count": 2,
   "id": "peaceful-charity",
   "metadata": {},
   "outputs": [],
   "source": [
    "class CRNNSA(nn.Module):\n",
    "    \n",
    "    \"\"\"\n",
    "    TODO: explore whether \"rec_unit -> self_att -> rec_unit\"\n",
    "    would have worked better.\n",
    "    \"\"\"\n",
    "    \n",
    "    # BERT-based Convolutional Recurrent Neural Network\n",
    "    # Code adopted from https://github.com/minzwon/sota-music-tagging-models/\n",
    "    def __init__(self, main_dict=None, backend=None, frontend=None):\n",
    "        super(CRNNSA, self).__init__()\n",
    "        \n",
    "\n",
    "        if main_dict is not None:\n",
    "            self.frontend = Frontend_mine(main_dict[\"frontend_dict\"])\n",
    "            self.backend = Backend2(main_dict)\n",
    "        else:\n",
    "            self.frontend = frontend\n",
    "            self.backend = backend\n",
    "\n",
    "\n",
    "    def forward(self, spec):\n",
    "        \n",
    "        x = self.backend(self.frontend(spec))\n",
    "        \n",
    "        return x"
   ]
  },
  {
   "cell_type": "code",
   "execution_count": 3,
   "id": "sound-consistency",
   "metadata": {},
   "outputs": [
    {
     "name": "stdout",
     "output_type": "stream",
     "text": [
      "CRNNSA(\n",
      "  (frontend): Frontend_mine(\n",
      "    (spec_bn): BatchNorm2d(1, eps=1e-05, momentum=0.1, affine=True, track_running_stats=True)\n",
      "    (conv_block1): BlockChoi(\n",
      "      (conv): Conv2dSame(1, 128, kernel_size=(3, 3), stride=(1, 1))\n",
      "      (bn): BatchNorm2d(128, eps=1e-05, momentum=0.1, affine=True, track_running_stats=True)\n",
      "      (activation): ELU(alpha=1.0)\n",
      "      (pool): MaxPool2d(kernel_size=(3, 2), stride=(3, 2), padding=0, dilation=1, ceil_mode=False)\n",
      "      (dropout): Dropout(p=0.1, inplace=False)\n",
      "    )\n",
      "    (conv_block2): BlockChoi(\n",
      "      (conv): Conv2dSame(128, 128, kernel_size=(3, 3), stride=(1, 1))\n",
      "      (bn): BatchNorm2d(128, eps=1e-05, momentum=0.1, affine=True, track_running_stats=True)\n",
      "      (activation): ELU(alpha=1.0)\n",
      "      (pool): MaxPool2d(kernel_size=(2, 2), stride=(2, 2), padding=0, dilation=1, ceil_mode=False)\n",
      "      (dropout): Dropout(p=0.1, inplace=False)\n",
      "    )\n",
      "    (conv_block3): BlockChoi(\n",
      "      (conv): Conv2dSame(128, 128, kernel_size=(3, 3), stride=(1, 1))\n",
      "      (bn): BatchNorm2d(128, eps=1e-05, momentum=0.1, affine=True, track_running_stats=True)\n",
      "      (activation): ELU(alpha=1.0)\n",
      "      (pool): MaxPool2d(kernel_size=(2, 2), stride=(2, 2), padding=0, dilation=1, ceil_mode=False)\n",
      "      (dropout): Dropout(p=0.1, inplace=False)\n",
      "    )\n",
      "    (conv_block4): BlockChoi(\n",
      "      (conv): Conv2dSame(128, 256, kernel_size=(3, 3), stride=(1, 1))\n",
      "      (bn): BatchNorm2d(256, eps=1e-05, momentum=0.1, affine=True, track_running_stats=True)\n",
      "      (activation): ELU(alpha=1.0)\n",
      "      (pool): MaxPool2d(kernel_size=(2, 1), stride=(2, 1), padding=0, dilation=1, ceil_mode=False)\n",
      "      (dropout): Dropout(p=0.1, inplace=False)\n",
      "    )\n",
      "    (conv_block5): BlockChoi(\n",
      "      (conv): Conv2dSame(256, 256, kernel_size=(3, 3), stride=(1, 1))\n",
      "      (bn): BatchNorm2d(256, eps=1e-05, momentum=0.1, affine=True, track_running_stats=True)\n",
      "      (activation): ELU(alpha=1.0)\n",
      "      (pool): MaxPool2d(kernel_size=(2, 1), stride=(2, 1), padding=0, dilation=1, ceil_mode=False)\n",
      "      (dropout): Dropout(p=0.1, inplace=False)\n",
      "    )\n",
      "    (conv_block6): BlockChoi(\n",
      "      (conv): Conv2dSame(256, 256, kernel_size=(3, 3), stride=(1, 1))\n",
      "      (bn): BatchNorm2d(256, eps=1e-05, momentum=0.1, affine=True, track_running_stats=True)\n",
      "      (activation): ELU(alpha=1.0)\n",
      "      (pool): AvgPool2d(kernel_size=(2, 1), stride=(2, 1), padding=0)\n",
      "      (dropout): Dropout(p=0.1, inplace=False)\n",
      "    )\n",
      "  )\n",
      "  (backend): Backend2(\n",
      "    (seq2seq): GRU(256, 256, num_layers=2)\n",
      "    (multihead_attn): MultiheadAttention(\n",
      "      (out_proj): _LinearWithBias(in_features=256, out_features=256, bias=True)\n",
      "    )\n",
      "    (dropout): Dropout(p=0.5, inplace=False)\n",
      "    (dense): Linear(in_features=256, out_features=50, bias=True)\n",
      "  )\n",
      ")\n"
     ]
    }
   ],
   "source": [
    "crnnsa = CRNNSA(main_dict)\n",
    "print(crnnsa)"
   ]
  },
  {
   "cell_type": "code",
   "execution_count": 4,
   "id": "recent-vatican",
   "metadata": {},
   "outputs": [],
   "source": [
    "input_length = 5\n",
    "input_length = int(input_length*16000/256)"
   ]
  },
  {
   "cell_type": "code",
   "execution_count": 5,
   "id": "spiritual-refrigerator",
   "metadata": {},
   "outputs": [],
   "source": [
    "spec = torch.FloatTensor(np.load(\"/import/c4dm-datasets/rmri_self_att/msd/1/1/113801.npy\")[np.newaxis,\n",
    "                                                                                           np.newaxis,\n",
    "                                                                                           :,\n",
    "                                                                                           :input_length])"
   ]
  },
  {
   "cell_type": "code",
   "execution_count": 6,
   "id": "adapted-buffer",
   "metadata": {},
   "outputs": [
    {
     "data": {
      "text/plain": [
       "torch.Size([50])"
      ]
     },
     "execution_count": 6,
     "metadata": {},
     "output_type": "execute_result"
    }
   ],
   "source": [
    "crnnsa(spec).shape"
   ]
  },
  {
   "cell_type": "code",
   "execution_count": 7,
   "id": "competent-accounting",
   "metadata": {},
   "outputs": [],
   "source": [
    "dataLoader = get_DataLoader(batch_size=64, input_length=5, mode=\"valid\")"
   ]
  },
  {
   "cell_type": "code",
   "execution_count": 8,
   "id": "matched-cooperative",
   "metadata": {},
   "outputs": [
    {
     "name": "stdout",
     "output_type": "stream",
     "text": [
      "torch.Size([64, 1, 96, 312])\n",
      "torch.Size([64, 50])\n",
      "torch.Size([64, 256, 39])\n",
      "torch.Size([64, 50])\n"
     ]
    }
   ],
   "source": [
    "for x,y in dataLoader:\n",
    "    print(x.shape)\n",
    "    print(y.shape)\n",
    "    print(crnnsa.frontend(x).shape)\n",
    "    print(crnnsa(x).shape)\n",
    "    break"
   ]
  },
  {
   "cell_type": "markdown",
   "id": "arctic-radar",
   "metadata": {},
   "source": [
    "# compare won frontend output shape"
   ]
  },
  {
   "cell_type": "code",
   "execution_count": 9,
   "id": "caroline-nutrition",
   "metadata": {},
   "outputs": [
    {
     "data": {
      "text/plain": [
       "torch.Size([64, 256, 39])"
      ]
     },
     "execution_count": 9,
     "metadata": {},
     "output_type": "execute_result"
    }
   ],
   "source": [
    "frondendWon = Frontend_won()\n",
    "frondendWon(x).shape"
   ]
  },
  {
   "cell_type": "code",
   "execution_count": 10,
   "id": "polish-batman",
   "metadata": {},
   "outputs": [
    {
     "name": "stdout",
     "output_type": "stream",
     "text": [
      "8863490\n"
     ]
    }
   ],
   "source": [
    "print(sum(p.numel() for p in frondendWon.parameters() if p.requires_grad))"
   ]
  },
  {
   "cell_type": "code",
   "execution_count": 11,
   "id": "reliable-biodiversity",
   "metadata": {},
   "outputs": [
    {
     "name": "stdout",
     "output_type": "stream",
     "text": [
      "1774082\n",
      "1065522\n",
      "789504\n"
     ]
    }
   ],
   "source": [
    "print(sum(p.numel() for p in crnnsa.frontend.parameters() if p.requires_grad))\n",
    "print(sum(p.numel() for p in crnnsa.backend.parameters() if p.requires_grad))\n",
    "print(sum(p.numel() for p in crnnsa.backend.seq2seq.parameters() if p.requires_grad))"
   ]
  },
  {
   "cell_type": "markdown",
   "id": "invisible-network",
   "metadata": {},
   "source": [
    "# TODO:"
   ]
  },
  {
   "cell_type": "code",
   "execution_count": 12,
   "id": "absolute-meter",
   "metadata": {},
   "outputs": [],
   "source": [
    "class Backend2(nn.Module):\n",
    "\n",
    "    def __init__(self,main_dict, \n",
    "                 bert_config = None):\n",
    "        super(Backend2, self).__init__()\n",
    "\n",
    "        backend_dict = main_dict[\"backend_dict\"]\n",
    "        self.frontend_out_channels = main_dict[\"frontend_dict\"][\"list_out_channels\"][-1]\n",
    "        \n",
    "        self.seq2seq = nn.GRU(self.frontend_out_channels, \n",
    "                              self.frontend_out_channels, \n",
    "                              backend_dict[\"recurrent_units\"]) # input and output = (seq_len, batch, input_size)\n",
    "        \n",
    "        self.multihead_attn = nn.MultiheadAttention(self.frontend_out_channels,\n",
    "                                                    8) # number of heads\n",
    "        \n",
    "        # Dense\n",
    "        self.dropout = nn.Dropout(0.5)\n",
    "        self.dense = nn.Linear(self.frontend_out_channels, backend_dict[\"n_class\"])\n",
    "        \n",
    "    def forward(self, x):\n",
    "\n",
    "        # frontend output shape = (batch, features, sequence)\n",
    "        # input to self attention and recurrent unit (sequence, batch, features)\n",
    "        x = x.permute(2,0,1)\n",
    "        \n",
    "        # see https://discuss.pytorch.org/t/dataparallel-issue-with-flatten-parameter/8282\n",
    "        self.seq2seq.flatten_parameters() \n",
    "        outputs,hidden = self.seq2seq(x)  \n",
    "        \n",
    "        hidden = hidden[-1] #take just the hidden state of the last recurrent layer\n",
    "\n",
    "        #x, attn_output_weights = self.multihead_attn(hidden, outputs, outputs) # (Q,K,V)\n",
    "        \n",
    "        x, _ = self.multihead_attn(hidden.unsqueeze(0), \n",
    "                                   outputs, \n",
    "                                   outputs) # (Q,K,V)\n",
    "        \n",
    "        # Dense\n",
    "        x = self.dropout(x.squeeze())\n",
    "        x = self.dense(x)\n",
    "        x = nn.Sigmoid()(x)\n",
    "\n",
    "        return x"
   ]
  },
  {
   "cell_type": "code",
   "execution_count": 13,
   "id": "boolean-addition",
   "metadata": {},
   "outputs": [],
   "source": [
    "backend = Backend2(main_dict)"
   ]
  },
  {
   "cell_type": "code",
   "execution_count": 14,
   "id": "sharing-camcorder",
   "metadata": {},
   "outputs": [
    {
     "data": {
      "text/plain": [
       "torch.Size([64, 256, 39])"
      ]
     },
     "execution_count": 14,
     "metadata": {},
     "output_type": "execute_result"
    }
   ],
   "source": [
    "frontend_out = crnnsa.frontend(x)\n",
    "frontend_out.shape"
   ]
  },
  {
   "cell_type": "code",
   "execution_count": 15,
   "id": "linear-stretch",
   "metadata": {},
   "outputs": [
    {
     "data": {
      "text/plain": [
       "torch.Size([64, 50])"
      ]
     },
     "execution_count": 15,
     "metadata": {},
     "output_type": "execute_result"
    }
   ],
   "source": [
    "backend(frontend_out).shape"
   ]
  },
  {
   "cell_type": "code",
   "execution_count": null,
   "id": "expressed-trigger",
   "metadata": {},
   "outputs": [],
   "source": []
  }
 ],
 "metadata": {
  "kernelspec": {
   "display_name": "dl4am",
   "language": "python",
   "name": "dl4am"
  },
  "language_info": {
   "codemirror_mode": {
    "name": "ipython",
    "version": 3
   },
   "file_extension": ".py",
   "mimetype": "text/x-python",
   "name": "python",
   "nbconvert_exporter": "python",
   "pygments_lexer": "ipython3",
   "version": "3.6.6"
  }
 },
 "nbformat": 4,
 "nbformat_minor": 5
}
