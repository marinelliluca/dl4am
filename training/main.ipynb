{
 "cells": [
  {
   "cell_type": "markdown",
   "id": "accepted-toronto",
   "metadata": {},
   "source": [
    "# Training main:\n",
    "\n",
    "take from cyanite notebook the interface to observe tags distribution and create datasets\n"
   ]
  },
  {
   "cell_type": "code",
   "execution_count": 1,
   "id": "latin-tournament",
   "metadata": {},
   "outputs": [],
   "source": [
    "import numpy as np\n",
    "import torch\n",
    "import torch.nn as nn\n",
    "import torch.nn.functional as F\n",
    "from sklearn import metrics\n",
    "from torch.autograd import Variable\n",
    "\n",
    "from frontend import Frontend_mine, Frontend_won\n",
    "from backend import Backend, Backend2\n",
    "from data_loader import get_DataLoader\n",
    "\n",
    "main_dict = {\"frontend_dict\":\n",
    "             {\"list_out_channels\":[128,128,128,256,256,256], \n",
    "              \"list_kernel_sizes\":[(3,3),(3,3),(3,3),(3,3),(3,3),(3,3)],\n",
    "              \"list_pool_sizes\":  [(3,2),(2,2),(2,2),(2,1),(2,1),(2,1)], \n",
    "              \"list_avgpool_flags\":[False,False,False,False,False,True]},\n",
    "             \n",
    "             \"backend_dict\":\n",
    "             {\"n_class\":50,\n",
    "              \"bert_config\":None, \n",
    "              \"recurrent_units\":2}} # pass None to deactivate"
   ]
  },
  {
   "cell_type": "code",
   "execution_count": null,
   "id": "preliminary-chart",
   "metadata": {},
   "outputs": [],
   "source": [
    "class CRNNSA(nn.Module):\n",
    "    \n",
    "    \"\"\"\n",
    "    TODO: explore whether \"rec_unit -> self_att -> rec_unit\"\n",
    "    would have worked better.\n",
    "    \"\"\"\n",
    "    \n",
    "    # BERT-based Convolutional Recurrent Neural Network\n",
    "    # Code adopted from https://github.com/minzwon/sota-music-tagging-models/\n",
    "    def __init__(self, main_dict=None, backend=None, frontend=None):\n",
    "        super(CRNNSA, self).__init__()\n",
    "        \n",
    "\n",
    "        if main_dict is not None:\n",
    "            self.frontend = Frontend_mine(main_dict[\"frontend_dict\"])\n",
    "            self.backend = Backend2(main_dict)\n",
    "        else:\n",
    "            self.frontend = frontend\n",
    "            self.backend = backend\n",
    "\n",
    "\n",
    "    def forward(self, spec):\n",
    "        \n",
    "        x = self.backend(self.frontend(spec))\n",
    "        \n",
    "        return x"
   ]
  },
  {
   "cell_type": "code",
   "execution_count": null,
   "id": "connected-flight",
   "metadata": {},
   "outputs": [],
   "source": [
    "crnnsa = CRNNSA(main_dict)\n",
    "print(crnnsa)"
   ]
  },
  {
   "cell_type": "code",
   "execution_count": 11,
   "id": "direct-omaha",
   "metadata": {},
   "outputs": [],
   "source": [
    "input_length = 5\n",
    "input_length = int(input_length*16000/256)"
   ]
  },
  {
   "cell_type": "code",
   "execution_count": 12,
   "id": "educated-challenge",
   "metadata": {},
   "outputs": [
    {
     "data": {
      "text/plain": [
       "torch.Size([1, 1, 96, 312])"
      ]
     },
     "execution_count": 12,
     "metadata": {},
     "output_type": "execute_result"
    }
   ],
   "source": [
    "spec = torch.FloatTensor(np.load(\"/import/c4dm-datasets/rmri_self_att/msd/1/1/113801.npy\")[np.newaxis,\n",
    "                                                                                           np.newaxis,\n",
    "                                                                                           :,\n",
    "                                                                                           :input_length])\n",
    "spec.shape"
   ]
  },
  {
   "cell_type": "code",
   "execution_count": null,
   "id": "surrounded-happiness",
   "metadata": {},
   "outputs": [],
   "source": [
    "crnnsa(spec).shape"
   ]
  },
  {
   "cell_type": "code",
   "execution_count": 2,
   "id": "utility-feeling",
   "metadata": {},
   "outputs": [],
   "source": [
    "dataLoader = get_DataLoader(batch_size=1, input_length=5, mode=\"valid\", num_workers=6)"
   ]
  },
  {
   "cell_type": "code",
   "execution_count": 9,
   "id": "indie-crazy",
   "metadata": {},
   "outputs": [
    {
     "name": "stdout",
     "output_type": "stream",
     "text": [
      "torch.Size([1, 6, 96, 312])\n",
      "torch.Size([1, 50])\n",
      "torch.Size([1, 6, 96, 312])\n",
      "torch.Size([1, 50])\n",
      "torch.Size([1, 12, 96, 312])\n",
      "torch.Size([1, 50])\n",
      "torch.Size([1, 12, 96, 312])\n",
      "torch.Size([1, 50])\n",
      "torch.Size([1, 12, 96, 312])\n",
      "torch.Size([1, 50])\n",
      "torch.Size([1, 12, 96, 312])\n",
      "torch.Size([1, 50])\n",
      "torch.Size([1, 6, 96, 312])\n",
      "torch.Size([1, 50])\n",
      "torch.Size([1, 6, 96, 312])\n",
      "torch.Size([1, 50])\n",
      "torch.Size([1, 12, 96, 312])\n",
      "torch.Size([1, 50])\n",
      "torch.Size([1, 12, 96, 312])\n",
      "torch.Size([1, 50])\n"
     ]
    }
   ],
   "source": [
    "ctr = 0\n",
    "for x,y in dataLoader:\n",
    "    print(x.shape)\n",
    "    print(y.shape)\n",
    "    ctr+=1\n",
    "    if ctr==10:\n",
    "        break"
   ]
  },
  {
   "cell_type": "code",
   "execution_count": null,
   "id": "rising-dover",
   "metadata": {},
   "outputs": [],
   "source": [
    "print(crnnsa.frontend(x).shape)\n",
    "print(crnnsa(x).shape)"
   ]
  },
  {
   "cell_type": "code",
   "execution_count": null,
   "id": "hispanic-indicator",
   "metadata": {},
   "outputs": [],
   "source": [
    "whole_spec = np.load(\"/import/c4dm-datasets/rmri_self_att/msd/1/1/113801.npy\")\n",
    "\n",
    "n_chunks = whole_spec.shape[1] // input_length\n",
    "spec = np.zeros((n_chunks,whole_spec.shape[0],input_length))\n",
    "for i in range(n_chunks):\n",
    "    spec[i]=whole_spec[:,i*input_length:(i+1)*input_length]"
   ]
  },
  {
   "cell_type": "code",
   "execution_count": null,
   "id": "previous-mattress",
   "metadata": {},
   "outputs": [],
   "source": [
    "spec.shape"
   ]
  },
  {
   "cell_type": "code",
   "execution_count": null,
   "id": "static-congress",
   "metadata": {},
   "outputs": [],
   "source": [
    "whole_spec.shape"
   ]
  }
 ],
 "metadata": {
  "kernelspec": {
   "display_name": "dl4am",
   "language": "python",
   "name": "dl4am"
  },
  "language_info": {
   "codemirror_mode": {
    "name": "ipython",
    "version": 3
   },
   "file_extension": ".py",
   "mimetype": "text/x-python",
   "name": "python",
   "nbconvert_exporter": "python",
   "pygments_lexer": "ipython3",
   "version": "3.6.6"
  }
 },
 "nbformat": 4,
 "nbformat_minor": 5
}
