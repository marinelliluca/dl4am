{
 "cells": [
  {
   "cell_type": "markdown",
   "id": "actual-control",
   "metadata": {},
   "source": [
    "# Training main:\n",
    "\n",
    "take from cyanite notebook the interface to observe tags distribution and create datasets\n"
   ]
  },
  {
   "cell_type": "code",
   "execution_count": 1,
   "id": "suspended-thesis",
   "metadata": {},
   "outputs": [],
   "source": [
    "import numpy as np\n",
    "import torch\n",
    "import torch.nn as nn\n",
    "import torch.nn.functional as F\n",
    "from sklearn import metrics\n",
    "from torch.autograd import Variable\n",
    "\n",
    "from frontend import Frontend_mine, Frontend_won\n",
    "from backend import Backend\n",
    "from data_loader import get_DataLoader\n",
    "\n",
    "main_dict = {\"frontend_dict\":\n",
    "             {\"list_out_channels\":[128,128,128,256,256,256], \n",
    "              \"list_kernel_sizes\":[(3,3),(3,3),(3,3),(3,3),(3,3),(3,3)],\n",
    "              \"list_pool_sizes\":  [(3,2),(2,2),(2,2),(2,2),(2,2),(2,1)], \n",
    "              \"list_avgpool_flags\":[False,False,False,False,False,True]},\n",
    "             \"backend_dict\":\n",
    "             {\"n_class\":50,\n",
    "              \"bert_config\":None, \n",
    "              \"recurrent_units\":2}} # pass None to deactivate"
   ]
  },
  {
   "cell_type": "code",
   "execution_count": 2,
   "id": "german-miami",
   "metadata": {},
   "outputs": [],
   "source": [
    "class CRNNSA(nn.Module):\n",
    "    \n",
    "    \"\"\"\n",
    "    TODO: explore whether \"rec_unit -> self_att -> rec_unit\"\n",
    "    would have worked better.\n",
    "    \"\"\"\n",
    "    \n",
    "    # BERT-based Convolutional Recurrent Neural Network\n",
    "    # Code adopted from https://github.com/minzwon/sota-music-tagging-models/\n",
    "    def __init__(self, main_dict=None, backend=None, frontend=None):\n",
    "        super(CRNNSA, self).__init__()\n",
    "        \n",
    "\n",
    "        if main_dict is not None:\n",
    "            self.frontend = Frontend_mine(main_dict[\"frontend_dict\"])\n",
    "            self.backend = Backend(main_dict)\n",
    "        else:\n",
    "            self.frontend = frontend\n",
    "            self.backend = backend\n",
    "\n",
    "\n",
    "    def forward(self, spec):\n",
    "        \n",
    "        x = self.backend(self.frontend(spec))\n",
    "        \n",
    "        return x"
   ]
  },
  {
   "cell_type": "code",
   "execution_count": 3,
   "id": "psychological-broadcast",
   "metadata": {},
   "outputs": [
    {
     "name": "stdout",
     "output_type": "stream",
     "text": [
      "CRNNSA(\n",
      "  (frontend): Frontend_mine(\n",
      "    (freq_bn): BatchNorm2d(1, eps=1e-05, momentum=0.1, affine=True, track_running_stats=True)\n",
      "    (conv_block1): BlockChoi(\n",
      "      (conv): Conv2dSame(1, 128, kernel_size=(3, 3), stride=(1, 1))\n",
      "      (bn): BatchNorm2d(128, eps=1e-05, momentum=0.1, affine=True, track_running_stats=True)\n",
      "      (activation): ELU(alpha=1.0)\n",
      "      (pool): MaxPool2d(kernel_size=(3, 2), stride=(3, 2), padding=0, dilation=1, ceil_mode=False)\n",
      "      (dropout): Dropout(p=0.1, inplace=False)\n",
      "    )\n",
      "    (conv_block2): BlockChoi(\n",
      "      (conv): Conv2dSame(128, 128, kernel_size=(3, 3), stride=(1, 1))\n",
      "      (bn): BatchNorm2d(128, eps=1e-05, momentum=0.1, affine=True, track_running_stats=True)\n",
      "      (activation): ELU(alpha=1.0)\n",
      "      (pool): MaxPool2d(kernel_size=(2, 2), stride=(2, 2), padding=0, dilation=1, ceil_mode=False)\n",
      "      (dropout): Dropout(p=0.1, inplace=False)\n",
      "    )\n",
      "    (conv_block3): BlockChoi(\n",
      "      (conv): Conv2dSame(128, 128, kernel_size=(3, 3), stride=(1, 1))\n",
      "      (bn): BatchNorm2d(128, eps=1e-05, momentum=0.1, affine=True, track_running_stats=True)\n",
      "      (activation): ELU(alpha=1.0)\n",
      "      (pool): MaxPool2d(kernel_size=(2, 2), stride=(2, 2), padding=0, dilation=1, ceil_mode=False)\n",
      "      (dropout): Dropout(p=0.1, inplace=False)\n",
      "    )\n",
      "    (conv_block4): BlockChoi(\n",
      "      (conv): Conv2dSame(128, 256, kernel_size=(3, 3), stride=(1, 1))\n",
      "      (bn): BatchNorm2d(256, eps=1e-05, momentum=0.1, affine=True, track_running_stats=True)\n",
      "      (activation): ELU(alpha=1.0)\n",
      "      (pool): MaxPool2d(kernel_size=(2, 2), stride=(2, 2), padding=0, dilation=1, ceil_mode=False)\n",
      "      (dropout): Dropout(p=0.1, inplace=False)\n",
      "    )\n",
      "    (conv_block5): BlockChoi(\n",
      "      (conv): Conv2dSame(256, 256, kernel_size=(3, 3), stride=(1, 1))\n",
      "      (bn): BatchNorm2d(256, eps=1e-05, momentum=0.1, affine=True, track_running_stats=True)\n",
      "      (activation): ELU(alpha=1.0)\n",
      "      (pool): MaxPool2d(kernel_size=(2, 2), stride=(2, 2), padding=0, dilation=1, ceil_mode=False)\n",
      "      (dropout): Dropout(p=0.1, inplace=False)\n",
      "    )\n",
      "    (conv_block6): BlockChoi(\n",
      "      (conv): Conv2dSame(256, 256, kernel_size=(3, 3), stride=(1, 1))\n",
      "      (bn): BatchNorm2d(256, eps=1e-05, momentum=0.1, affine=True, track_running_stats=True)\n",
      "      (activation): ELU(alpha=1.0)\n",
      "      (pool): AvgPool2d(kernel_size=(2, 1), stride=(2, 1), padding=0)\n",
      "      (dropout): Dropout(p=0.1, inplace=False)\n",
      "    )\n",
      "  )\n",
      "  (backend): Backend(\n",
      "    (seq2seq): GRU(256, 256, num_layers=2, batch_first=True)\n",
      "    (encoder): BertEncoder(\n",
      "      (layer): ModuleList(\n",
      "        (0): BertLayer(\n",
      "          (attention): BertAttention(\n",
      "            (self): BertSelfAttention(\n",
      "              (query): Linear(in_features=256, out_features=256, bias=True)\n",
      "              (key): Linear(in_features=256, out_features=256, bias=True)\n",
      "              (value): Linear(in_features=256, out_features=256, bias=True)\n",
      "              (dropout): Dropout(p=0.5, inplace=False)\n",
      "            )\n",
      "            (output): BertSelfOutput(\n",
      "              (dense): Linear(in_features=256, out_features=256, bias=True)\n",
      "              (LayerNorm): BertLayerNorm()\n",
      "              (dropout): Dropout(p=0.4, inplace=False)\n",
      "            )\n",
      "          )\n",
      "          (intermediate): BertIntermediate(\n",
      "            (dense): Linear(in_features=256, out_features=1024, bias=True)\n",
      "          )\n",
      "          (output): BertOutput(\n",
      "            (dense): Linear(in_features=1024, out_features=256, bias=True)\n",
      "            (LayerNorm): BertLayerNorm()\n",
      "            (dropout): Dropout(p=0.4, inplace=False)\n",
      "          )\n",
      "        )\n",
      "        (1): BertLayer(\n",
      "          (attention): BertAttention(\n",
      "            (self): BertSelfAttention(\n",
      "              (query): Linear(in_features=256, out_features=256, bias=True)\n",
      "              (key): Linear(in_features=256, out_features=256, bias=True)\n",
      "              (value): Linear(in_features=256, out_features=256, bias=True)\n",
      "              (dropout): Dropout(p=0.5, inplace=False)\n",
      "            )\n",
      "            (output): BertSelfOutput(\n",
      "              (dense): Linear(in_features=256, out_features=256, bias=True)\n",
      "              (LayerNorm): BertLayerNorm()\n",
      "              (dropout): Dropout(p=0.4, inplace=False)\n",
      "            )\n",
      "          )\n",
      "          (intermediate): BertIntermediate(\n",
      "            (dense): Linear(in_features=256, out_features=1024, bias=True)\n",
      "          )\n",
      "          (output): BertOutput(\n",
      "            (dense): Linear(in_features=1024, out_features=256, bias=True)\n",
      "            (LayerNorm): BertLayerNorm()\n",
      "            (dropout): Dropout(p=0.4, inplace=False)\n",
      "          )\n",
      "        )\n",
      "      )\n",
      "    )\n",
      "    (pooler): BertPooler(\n",
      "      (dense): Linear(in_features=256, out_features=256, bias=True)\n",
      "      (activation): ELU(alpha=1.0)\n",
      "    )\n",
      "    (dropout): Dropout(p=0.5, inplace=False)\n",
      "    (dense): Linear(in_features=256, out_features=50, bias=True)\n",
      "  )\n",
      ")\n"
     ]
    }
   ],
   "source": [
    "crnnsa = CRNNSA(main_dict)\n",
    "print(crnnsa)"
   ]
  },
  {
   "cell_type": "code",
   "execution_count": 4,
   "id": "statewide-intention",
   "metadata": {},
   "outputs": [],
   "source": [
    "spec = torch.FloatTensor(np.load(\"/import/c4dm-datasets/rmri_self_att/msd/1/1/113801.npy\")[np.newaxis,np.newaxis,:,:])"
   ]
  },
  {
   "cell_type": "code",
   "execution_count": 5,
   "id": "extreme-approval",
   "metadata": {},
   "outputs": [
    {
     "data": {
      "text/plain": [
       "torch.Size([1, 50])"
      ]
     },
     "execution_count": 5,
     "metadata": {},
     "output_type": "execute_result"
    }
   ],
   "source": [
    "crnnsa(spec).shape"
   ]
  },
  {
   "cell_type": "code",
   "execution_count": 6,
   "id": "hybrid-rwanda",
   "metadata": {},
   "outputs": [],
   "source": [
    "dataLoader = get_DataLoader(batch_size=1, mode=\"valid\")"
   ]
  },
  {
   "cell_type": "code",
   "execution_count": 7,
   "id": "rotary-monaco",
   "metadata": {},
   "outputs": [
    {
     "name": "stdout",
     "output_type": "stream",
     "text": [
      "torch.Size([1, 1, 96, 937])\n",
      "torch.Size([1, 50])\n",
      "torch.Size([1, 256, 29])\n",
      "torch.Size([1, 50])\n"
     ]
    }
   ],
   "source": [
    "for x,y in dataLoader:\n",
    "    print(x.shape)\n",
    "    print(y.shape)\n",
    "    print(crnnsa.frontend(x).shape)\n",
    "    print(crnnsa(x).shape)\n",
    "    break"
   ]
  },
  {
   "cell_type": "markdown",
   "id": "controlling-version",
   "metadata": {},
   "source": [
    "\n",
    "    TO SOLVE:\n",
    "\n",
    "    /homes/lm004/.local/lib/python3.7/site-packages/torch/nn/modules/rnn.py:740: UserWarning: RNN module weights are not part of single contiguous chunk of memory. This means they need to be compacted at every call, possibly greatly increasing memory usage. To compact weights again call flatten_parameters(). (Triggered internally at  /pytorch/aten/src/ATen/native/cudnn/RNN.cpp:775.)\n",
    "      self.dropout, self.training, self.bidirectional, self.batch_first)\n",
    "    Traceback (most recent call last):\n",
    "      File \"main.py\", line 252, in <module>\n",
    "        solver.train()\n",
    "      File \"main.py\", line 184, in train\n",
    "        roc_auc, pr_auc = self.get_validation_auc()\n",
    "      File \"main.py\", line 247, in get_validation_auc\n",
    "        roc_auc, pr_auc = get_auc(predictions, groundtruths)\n",
    "      File \"main.py\", line 49, in get_auc\n",
    "        predictions = np.array(predictions)\n",
    "    ValueError: only one element tensors can be converted to Python scalars\n"
   ]
  },
  {
   "cell_type": "code",
   "execution_count": 8,
   "id": "dominant-champion",
   "metadata": {},
   "outputs": [],
   "source": [
    "def get_auc(predictions, groundtruths):\n",
    "    predictions = np.array(predictions)\n",
    "    groundtruths = np.array(groundtruths)\n",
    "\n",
    "    roc_aucs  = metrics.roc_auc_score(groundtruths, predictions, average='macro')\n",
    "    pr_aucs = metrics.average_precision_score(groundtruths, predictions, average='macro')\n",
    "    print('roc_auc: %.4f' % roc_aucs)\n",
    "    print('pr_auc: %.4f' % pr_aucs)\n",
    "    return roc_aucs, pr_aucs\n",
    "\n",
    "def to_var(x):\n",
    "    if torch.cuda.is_available():\n",
    "        x = x.cuda()\n",
    "    return Variable(x)"
   ]
  },
  {
   "cell_type": "code",
   "execution_count": 58,
   "id": "partial-irrigation",
   "metadata": {},
   "outputs": [],
   "source": [
    "\n",
    "y_score = []\n",
    "y_true = []\n",
    "ctr = 0\n",
    "for x,y in dataLoader:\n",
    "    ctr+=1\n",
    "    # forward\n",
    "    #x = to_var(x)\n",
    "    out = crnnsa(x)\n",
    "    #out = out.detach().cpu()\n",
    "\n",
    "    y_score.append(out.detach().numpy())\n",
    "\n",
    "    y_true.append(y.detach().numpy())\n",
    "    \n",
    "    if ctr==1000:\n",
    "        break \n",
    "\n",
    "\n"
   ]
  },
  {
   "cell_type": "code",
   "execution_count": 59,
   "id": "noticed-wrist",
   "metadata": {},
   "outputs": [],
   "source": [
    "y_score = np.array(y_score).squeeze()\n",
    "y_true = np.array(y_true).squeeze().astype(int)\n",
    "\n",
    "roc_aucs  = metrics.roc_auc_score(y_true,y_score, average='macro')\n",
    "pr_aucs = metrics.average_precision_score(y_true, y_score, average='macro')"
   ]
  },
  {
   "cell_type": "code",
   "execution_count": 60,
   "id": "jewish-malaysia",
   "metadata": {},
   "outputs": [
    {
     "data": {
      "text/plain": [
       "0.5039593613301728"
      ]
     },
     "execution_count": 60,
     "metadata": {},
     "output_type": "execute_result"
    }
   ],
   "source": [
    "roc_aucs"
   ]
  },
  {
   "cell_type": "code",
   "execution_count": 61,
   "id": "expensive-knitting",
   "metadata": {},
   "outputs": [
    {
     "data": {
      "text/plain": [
       "0.04162681330544072"
      ]
     },
     "execution_count": 61,
     "metadata": {},
     "output_type": "execute_result"
    }
   ],
   "source": [
    "pr_aucs"
   ]
  }
 ],
 "metadata": {
  "kernelspec": {
   "display_name": "dl4am",
   "language": "python",
   "name": "dl4am"
  },
  "language_info": {
   "codemirror_mode": {
    "name": "ipython",
    "version": 3
   },
   "file_extension": ".py",
   "mimetype": "text/x-python",
   "name": "python",
   "nbconvert_exporter": "python",
   "pygments_lexer": "ipython3",
   "version": "3.7.4"
  }
 },
 "nbformat": 4,
 "nbformat_minor": 5
}
