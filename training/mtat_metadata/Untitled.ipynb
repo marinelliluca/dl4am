{
 "cells": [
  {
   "cell_type": "code",
   "execution_count": 2,
   "id": "aquatic-vancouver",
   "metadata": {},
   "outputs": [],
   "source": [
    "import numpy as np"
   ]
  },
  {
   "cell_type": "code",
   "execution_count": 4,
   "id": "cloudy-sphere",
   "metadata": {},
   "outputs": [],
   "source": [
    "binary = np.load(\"binary.npy\")\n",
    "tags = np.load(\"tags.npy\")\n",
    "test_new = np.load(\"test_new.npy\")\n",
    "train_new = np.load(\"train_new.npy\")\n",
    "valid_new = np.load(\"valid_new.npy\")"
   ]
  },
  {
   "cell_type": "code",
   "execution_count": 7,
   "id": "concrete-accent",
   "metadata": {},
   "outputs": [
    {
     "data": {
      "text/plain": [
       "'25830\\tc/edward_martin-art_of_the_lute_in_renaissance_france-36-the_fowerth_branle_of_malte_le_roy-30-59.mp3'"
      ]
     },
     "execution_count": 7,
     "metadata": {},
     "output_type": "execute_result"
    }
   ],
   "source": [
    "valid_new[-1]"
   ]
  },
  {
   "cell_type": "code",
   "execution_count": null,
   "id": "exclusive-bikini",
   "metadata": {},
   "outputs": [],
   "source": []
  }
 ],
 "metadata": {
  "kernelspec": {
   "display_name": "Python 3",
   "language": "python",
   "name": "python3"
  },
  "language_info": {
   "codemirror_mode": {
    "name": "ipython",
    "version": 3
   },
   "file_extension": ".py",
   "mimetype": "text/x-python",
   "name": "python",
   "nbconvert_exporter": "python",
   "pygments_lexer": "ipython3",
   "version": "3.6.6"
  }
 },
 "nbformat": 4,
 "nbformat_minor": 5
}
