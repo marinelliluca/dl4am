{
 "cells": [
  {
   "cell_type": "code",
   "execution_count": 1,
   "id": "northern-grove",
   "metadata": {},
   "outputs": [],
   "source": [
    "import numpy as np\n",
    "import torch\n",
    "import torch.nn as nn\n",
    "import torch.nn.functional as F\n",
    "from sklearn import metrics\n",
    "from torch.autograd import Variable\n",
    "\n",
    "from frontend import Frontend_mine, Frontend_won\n",
    "from backend import Backend\n",
    "from data_loader import get_DataLoader\n",
    "import datetime\n",
    "import warnings\n",
    "import librosa\n",
    "\n",
    "from main import AssembleModel\n",
    "\n",
    "# define here all the parameters\n",
    "main_dict = {\"frontend_dict\":\n",
    "             {\"list_out_channels\":[128,128,256,256,256,256], \n",
    "              \"list_kernel_sizes\":[(3,3),(3,3),(3,3),(3,3),(3,3),(3,3)],\n",
    "              \"list_pool_sizes\":  [(3,2),(2,2),(2,2),(2,1),(2,1),(2,1)], \n",
    "              \"list_avgpool_flags\":[False,False,False,False,False,True]},\n",
    "             \n",
    "             \"backend_dict\":\n",
    "             {\"n_class\":50,\n",
    "              \"bert_config\":None, \n",
    "              \"recurrent_units\":2, \n",
    "              \"bidirectional\":True}, #  pass recurrent_units = None to deactivate\n",
    "             \n",
    "             \"training_dict\":\n",
    "             {\"dataset\":'msd',\n",
    "              \"architecture\":'without_seq2seq_5s',\n",
    "              \"n_epochs\":1000,\n",
    "              \"learning_rate\":1e-4},\n",
    "             \n",
    "             \"data_loader_dict\":\n",
    "             {\"path_to_repo\":'~/dl4am/',\n",
    "              \"batch_size\":128,\n",
    "              \"input_length\":5, # [s]\n",
    "              \"spec_path\":'/import/c4dm-datasets/rmri_self_att/msd',\n",
    "              \"audio_path\":'/import/c4dm-03/Databases/songs/',\n",
    "              \"mode\":'train', \n",
    "              \"num_workers\":20}}"
   ]
  },
  {
   "cell_type": "code",
   "execution_count": 8,
   "id": "running-wellington",
   "metadata": {},
   "outputs": [],
   "source": [
    "def compute_melspectrogram(audio_fn):\n",
    "    with warnings.catch_warnings():\n",
    "        warnings.simplefilter(\"ignore\")\n",
    "        x, _ = librosa.core.load(audio_fn, sr=16000, res_type='kaiser_fast')\n",
    "        spec = librosa.core.amplitude_to_db(librosa.feature.melspectrogram(x, \n",
    "                                                                           sr=16000, \n",
    "                                                                           n_fft=512, \n",
    "                                                                           hop_length=256, \n",
    "                                                                           n_mels=96))\n",
    "    return spec"
   ]
  },
  {
   "cell_type": "code",
   "execution_count": 3,
   "id": "healthy-rachel",
   "metadata": {},
   "outputs": [],
   "source": [
    "def load_parameters(model, filename): \n",
    "    model = torch.nn.DataParallel(model)\n",
    "    S = torch.load(filename)\n",
    "    model.load_state_dict(S)\n",
    "    return model\n",
    "\n",
    "def test(model, data_loader):\n",
    "    model.eval()\n",
    "    y_score = []\n",
    "    y_true = []\n",
    "    ctr = 0\n",
    "    for x,y in data_loader:\n",
    "        ctr+=1\n",
    "\n",
    "        # NB: in validation mode the output of the DataLoader\n",
    "        # has a shape of (1,n_chunks,F,T), where n_chunks = total time frames // input_length\n",
    "        x = x.permute(1,0,2,3) \n",
    "        # by permuting it here we are treating n_chunks as the batch_size\n",
    "\n",
    "        # forward\n",
    "        out = model(x)\n",
    "        out = out.detach().cpu()\n",
    "\n",
    "        y_score.append(out.numpy().mean(axis=0))\n",
    "\n",
    "        y_true.append(y.detach().numpy())\n",
    "\n",
    "        if ctr % 1000 == 0:\n",
    "            print(\"[%s] Valid Iter [%d/%d] \" %\n",
    "                  (datetime.datetime.now().strftime('%Y-%m-%d %H:%M:%S'),\n",
    "                   ctr, len(data_loader)))\n",
    "\n",
    "    y_score = np.array(y_score).squeeze()\n",
    "    y_true = np.array(y_true).squeeze().astype(int)\n",
    "\n",
    "    roc_auc  = metrics.roc_auc_score(y_true, y_score, average='macro')\n",
    "    pr_auc = metrics.average_precision_score(y_true, y_score, average='macro')\n",
    "    print('roc_auc: %.4f' % roc_auc)\n",
    "    print('pr_auc: %.4f' % pr_auc)"
   ]
  },
  {
   "cell_type": "code",
   "execution_count": 4,
   "id": "unexpected-bruce",
   "metadata": {},
   "outputs": [
    {
     "data": {
      "text/plain": [
       "28435"
      ]
     },
     "execution_count": 4,
     "metadata": {},
     "output_type": "execute_result"
    }
   ],
   "source": [
    "test_data = get_DataLoader(batch_size=1, input_length=5, mode='test', num_workers=10)\n",
    "len(test_data)"
   ]
  },
  {
   "cell_type": "code",
   "execution_count": 4,
   "id": "external-dominican",
   "metadata": {},
   "outputs": [],
   "source": [
    "bidirectional_recurrent_self_att = load_parameters(AssembleModel(main_dict),\"../models/best_model_bidirectional.pth\")"
   ]
  },
  {
   "cell_type": "code",
   "execution_count": 5,
   "id": "elect-mercy",
   "metadata": {},
   "outputs": [],
   "source": [
    "main_dict[\"backend_dict\"][\"bidirectional\"] = False\n",
    "recurrent_self_att = load_parameters(AssembleModel(main_dict),\"../models/best_model_sacrnn_5s.pth\")"
   ]
  },
  {
   "cell_type": "code",
   "execution_count": 6,
   "id": "defined-array",
   "metadata": {},
   "outputs": [],
   "source": [
    "main_dict[\"backend_dict\"][\"recurrent_units\"] = None\n",
    "only_self_att = load_parameters(AssembleModel(main_dict),\"../models/best_model_no_recurrent.pth\")"
   ]
  },
  {
   "cell_type": "code",
   "execution_count": 8,
   "id": "seven-swedish",
   "metadata": {},
   "outputs": [
    {
     "name": "stdout",
     "output_type": "stream",
     "text": [
      "[2021-03-14 11:14:43] Valid Iter [1000/28435] \n",
      "[2021-03-14 11:14:59] Valid Iter [2000/28435] \n",
      "[2021-03-14 11:15:15] Valid Iter [3000/28435] \n",
      "[2021-03-14 11:15:30] Valid Iter [4000/28435] \n",
      "[2021-03-14 11:15:46] Valid Iter [5000/28435] \n",
      "[2021-03-14 11:16:02] Valid Iter [6000/28435] \n",
      "[2021-03-14 11:16:17] Valid Iter [7000/28435] \n",
      "[2021-03-14 11:16:33] Valid Iter [8000/28435] \n",
      "[2021-03-14 11:16:48] Valid Iter [9000/28435] \n",
      "[2021-03-14 11:17:04] Valid Iter [10000/28435] \n",
      "[2021-03-14 11:17:20] Valid Iter [11000/28435] \n",
      "[2021-03-14 11:17:35] Valid Iter [12000/28435] \n",
      "[2021-03-14 11:17:51] Valid Iter [13000/28435] \n",
      "[2021-03-14 11:18:07] Valid Iter [14000/28435] \n",
      "[2021-03-14 11:18:22] Valid Iter [15000/28435] \n",
      "[2021-03-14 11:18:37] Valid Iter [16000/28435] \n",
      "[2021-03-14 11:18:52] Valid Iter [17000/28435] \n",
      "[2021-03-14 11:19:07] Valid Iter [18000/28435] \n",
      "[2021-03-14 11:19:22] Valid Iter [19000/28435] \n",
      "[2021-03-14 11:19:38] Valid Iter [20000/28435] \n",
      "[2021-03-14 11:19:53] Valid Iter [21000/28435] \n",
      "[2021-03-14 11:20:08] Valid Iter [22000/28435] \n",
      "[2021-03-14 11:20:23] Valid Iter [23000/28435] \n",
      "[2021-03-14 11:20:39] Valid Iter [24000/28435] \n",
      "[2021-03-14 11:20:54] Valid Iter [25000/28435] \n",
      "[2021-03-14 11:21:10] Valid Iter [26000/28435] \n",
      "[2021-03-14 11:21:25] Valid Iter [27000/28435] \n",
      "[2021-03-14 11:21:40] Valid Iter [28000/28435] \n",
      "roc_auc: 0.8914\n",
      "pr_auc: 0.3280\n"
     ]
    }
   ],
   "source": [
    "test(bidirectional_recurrent_self_att,test_data)"
   ]
  },
  {
   "cell_type": "code",
   "execution_count": 5,
   "id": "beginning-hungary",
   "metadata": {},
   "outputs": [
    {
     "name": "stdout",
     "output_type": "stream",
     "text": [
      "[2021-03-12 16:18:31] Valid Iter [1000/28435] \n",
      "[2021-03-12 16:18:45] Valid Iter [2000/28435] \n",
      "[2021-03-12 16:18:59] Valid Iter [3000/28435] \n",
      "[2021-03-12 16:19:13] Valid Iter [4000/28435] \n",
      "[2021-03-12 16:19:28] Valid Iter [5000/28435] \n",
      "[2021-03-12 16:19:42] Valid Iter [6000/28435] \n",
      "[2021-03-12 16:19:56] Valid Iter [7000/28435] \n",
      "[2021-03-12 16:20:10] Valid Iter [8000/28435] \n",
      "[2021-03-12 16:20:25] Valid Iter [9000/28435] \n",
      "[2021-03-12 16:20:39] Valid Iter [10000/28435] \n",
      "[2021-03-12 16:20:53] Valid Iter [11000/28435] \n",
      "[2021-03-12 16:21:08] Valid Iter [12000/28435] \n",
      "[2021-03-12 16:21:22] Valid Iter [13000/28435] \n",
      "[2021-03-12 16:21:36] Valid Iter [14000/28435] \n",
      "[2021-03-12 16:21:50] Valid Iter [15000/28435] \n",
      "[2021-03-12 16:22:05] Valid Iter [16000/28435] \n",
      "[2021-03-12 16:22:19] Valid Iter [17000/28435] \n",
      "[2021-03-12 16:22:33] Valid Iter [18000/28435] \n",
      "[2021-03-12 16:22:47] Valid Iter [19000/28435] \n",
      "[2021-03-12 16:23:02] Valid Iter [20000/28435] \n",
      "[2021-03-12 16:23:16] Valid Iter [21000/28435] \n",
      "[2021-03-12 16:23:30] Valid Iter [22000/28435] \n",
      "[2021-03-12 16:23:45] Valid Iter [23000/28435] \n",
      "[2021-03-12 16:23:59] Valid Iter [24000/28435] \n",
      "[2021-03-12 16:24:13] Valid Iter [25000/28435] \n",
      "[2021-03-12 16:24:27] Valid Iter [26000/28435] \n",
      "[2021-03-12 16:24:42] Valid Iter [27000/28435] \n",
      "[2021-03-12 16:24:56] Valid Iter [28000/28435] \n",
      "roc_auc: 0.8919\n",
      "pr_auc: 0.3294\n"
     ]
    }
   ],
   "source": [
    "test(recurrent_self_att,test_data)"
   ]
  },
  {
   "cell_type": "code",
   "execution_count": 6,
   "id": "driving-shift",
   "metadata": {},
   "outputs": [
    {
     "name": "stdout",
     "output_type": "stream",
     "text": [
      "[2021-03-12 16:25:18] Valid Iter [1000/28435] \n",
      "[2021-03-12 16:25:31] Valid Iter [2000/28435] \n",
      "[2021-03-12 16:25:45] Valid Iter [3000/28435] \n",
      "[2021-03-12 16:25:59] Valid Iter [4000/28435] \n",
      "[2021-03-12 16:26:13] Valid Iter [5000/28435] \n",
      "[2021-03-12 16:26:26] Valid Iter [6000/28435] \n",
      "[2021-03-12 16:26:40] Valid Iter [7000/28435] \n",
      "[2021-03-12 16:26:54] Valid Iter [8000/28435] \n",
      "[2021-03-12 16:27:08] Valid Iter [9000/28435] \n",
      "[2021-03-12 16:27:22] Valid Iter [10000/28435] \n",
      "[2021-03-12 16:27:35] Valid Iter [11000/28435] \n",
      "[2021-03-12 16:27:49] Valid Iter [12000/28435] \n",
      "[2021-03-12 16:28:02] Valid Iter [13000/28435] \n",
      "[2021-03-12 16:28:16] Valid Iter [14000/28435] \n",
      "[2021-03-12 16:28:29] Valid Iter [15000/28435] \n",
      "[2021-03-12 16:28:43] Valid Iter [16000/28435] \n",
      "[2021-03-12 16:28:56] Valid Iter [17000/28435] \n",
      "[2021-03-12 16:29:09] Valid Iter [18000/28435] \n",
      "[2021-03-12 16:29:23] Valid Iter [19000/28435] \n",
      "[2021-03-12 16:29:36] Valid Iter [20000/28435] \n",
      "[2021-03-12 16:29:49] Valid Iter [21000/28435] \n",
      "[2021-03-12 16:30:03] Valid Iter [22000/28435] \n",
      "[2021-03-12 16:30:16] Valid Iter [23000/28435] \n",
      "[2021-03-12 16:30:29] Valid Iter [24000/28435] \n",
      "[2021-03-12 16:30:42] Valid Iter [25000/28435] \n",
      "[2021-03-12 16:30:56] Valid Iter [26000/28435] \n",
      "[2021-03-12 16:31:09] Valid Iter [27000/28435] \n",
      "[2021-03-12 16:31:22] Valid Iter [28000/28435] \n",
      "roc_auc: 0.8922\n",
      "pr_auc: 0.3294\n"
     ]
    }
   ],
   "source": [
    "test(only_self_att,test_data)"
   ]
  },
  {
   "cell_type": "code",
   "execution_count": 8,
   "id": "distant-runner",
   "metadata": {},
   "outputs": [
    {
     "name": "stdout",
     "output_type": "stream",
     "text": [
      "5715124\n",
      "4925620\n"
     ]
    }
   ],
   "source": [
    "print(sum(p.numel() for p in recurrent_self_att.parameters()))\n",
    "print(sum(p.numel() for p in only_self_att.parameters()))"
   ]
  },
  {
   "cell_type": "code",
   "execution_count": 32,
   "id": "contained-bailey",
   "metadata": {
    "collapsed": true,
    "jupyter": {
     "outputs_hidden": true
    }
   },
   "outputs": [
    {
     "data": {
      "text/plain": [
       "['rock',\n",
       " 'pop',\n",
       " 'alternative',\n",
       " 'indie',\n",
       " 'electronic',\n",
       " 'female vocalists',\n",
       " 'dance',\n",
       " '00s',\n",
       " 'alternative rock',\n",
       " 'jazz',\n",
       " 'beautiful',\n",
       " 'metal',\n",
       " 'chillout',\n",
       " 'male vocalists',\n",
       " 'classic rock',\n",
       " 'soul',\n",
       " 'indie rock',\n",
       " 'Mellow',\n",
       " 'electronica',\n",
       " '80s',\n",
       " 'folk',\n",
       " '90s',\n",
       " 'chill',\n",
       " 'instrumental',\n",
       " 'punk',\n",
       " 'oldies',\n",
       " 'blues',\n",
       " 'hard rock',\n",
       " 'ambient',\n",
       " 'acoustic',\n",
       " 'experimental',\n",
       " 'female vocalist',\n",
       " 'guitar',\n",
       " 'Hip-Hop',\n",
       " '70s',\n",
       " 'party',\n",
       " 'country',\n",
       " 'easy listening',\n",
       " 'sexy',\n",
       " 'catchy',\n",
       " 'funk',\n",
       " 'electro',\n",
       " 'heavy metal',\n",
       " 'Progressive rock',\n",
       " '60s',\n",
       " 'rnb',\n",
       " 'indie pop',\n",
       " 'sad',\n",
       " 'House',\n",
       " 'happy']"
      ]
     },
     "execution_count": 32,
     "metadata": {},
     "output_type": "execute_result"
    }
   ],
   "source": [
    "with open('msd_metadata/50tagList.txt') as f:\n",
    "    tagList = f.readlines()\n",
    "    \n",
    "tagList = [line.replace('\\n','') for line in tagList]\n",
    "tagList"
   ]
  },
  {
   "cell_type": "code",
   "execution_count": 18,
   "id": "solid-eagle",
   "metadata": {},
   "outputs": [
    {
     "data": {
      "text/plain": [
       "(41, 1, 96, 312)"
      ]
     },
     "execution_count": 18,
     "metadata": {},
     "output_type": "execute_result"
    }
   ],
   "source": [
    "input_length = 5*16000//256\n",
    "\n",
    "whole_spec = compute_melspectrogram(\"track.mp3\")\n",
    "\n",
    "n_chunks = whole_spec.shape[1] // input_length\n",
    "spec = np.zeros((n_chunks,whole_spec.shape[0],input_length)) # stack of chunks\n",
    "for i in range(n_chunks):\n",
    "    spec[i]=whole_spec[:,i*input_length:(i+1)*input_length]\n",
    "\n",
    "spec = spec[:,np.newaxis,:,:]\n",
    "spec.shape"
   ]
  },
  {
   "cell_type": "code",
   "execution_count": 24,
   "id": "laden-breakfast",
   "metadata": {
    "collapsed": true,
    "jupyter": {
     "outputs_hidden": true
    }
   },
   "outputs": [
    {
     "ename": "RuntimeError",
     "evalue": "CUDA out of memory. Tried to allocate 20.00 MiB (GPU 0; 10.76 GiB total capacity; 5.02 GiB already allocated; 3.56 MiB free; 5.04 GiB reserved in total by PyTorch)",
     "output_type": "error",
     "traceback": [
      "\u001b[0;31m---------------------------------------------------------------------------\u001b[0m",
      "\u001b[0;31mRuntimeError\u001b[0m                              Traceback (most recent call last)",
      "\u001b[0;32m<ipython-input-24-b8067ecbf3f1>\u001b[0m in \u001b[0;36m<module>\u001b[0;34m\u001b[0m\n\u001b[0;32m----> 1\u001b[0;31m \u001b[0mout\u001b[0m \u001b[0;34m=\u001b[0m \u001b[0monly_self_att\u001b[0m\u001b[0;34m(\u001b[0m\u001b[0mtorch\u001b[0m\u001b[0;34m.\u001b[0m\u001b[0mTensor\u001b[0m\u001b[0;34m(\u001b[0m\u001b[0mspec\u001b[0m\u001b[0;34m)\u001b[0m\u001b[0;34m)\u001b[0m\u001b[0;34m\u001b[0m\u001b[0m\n\u001b[0m",
      "\u001b[0;32m~/venvs/dl4am/lib/python3.6/site-packages/torch/nn/modules/module.py\u001b[0m in \u001b[0;36m_call_impl\u001b[0;34m(self, *input, **kwargs)\u001b[0m\n\u001b[1;32m    725\u001b[0m             \u001b[0mresult\u001b[0m \u001b[0;34m=\u001b[0m \u001b[0mself\u001b[0m\u001b[0;34m.\u001b[0m\u001b[0m_slow_forward\u001b[0m\u001b[0;34m(\u001b[0m\u001b[0;34m*\u001b[0m\u001b[0minput\u001b[0m\u001b[0;34m,\u001b[0m \u001b[0;34m**\u001b[0m\u001b[0mkwargs\u001b[0m\u001b[0;34m)\u001b[0m\u001b[0;34m\u001b[0m\u001b[0m\n\u001b[1;32m    726\u001b[0m         \u001b[0;32melse\u001b[0m\u001b[0;34m:\u001b[0m\u001b[0;34m\u001b[0m\u001b[0m\n\u001b[0;32m--> 727\u001b[0;31m             \u001b[0mresult\u001b[0m \u001b[0;34m=\u001b[0m \u001b[0mself\u001b[0m\u001b[0;34m.\u001b[0m\u001b[0mforward\u001b[0m\u001b[0;34m(\u001b[0m\u001b[0;34m*\u001b[0m\u001b[0minput\u001b[0m\u001b[0;34m,\u001b[0m \u001b[0;34m**\u001b[0m\u001b[0mkwargs\u001b[0m\u001b[0;34m)\u001b[0m\u001b[0;34m\u001b[0m\u001b[0m\n\u001b[0m\u001b[1;32m    728\u001b[0m         for hook in itertools.chain(\n\u001b[1;32m    729\u001b[0m                 \u001b[0m_global_forward_hooks\u001b[0m\u001b[0;34m.\u001b[0m\u001b[0mvalues\u001b[0m\u001b[0;34m(\u001b[0m\u001b[0;34m)\u001b[0m\u001b[0;34m,\u001b[0m\u001b[0;34m\u001b[0m\u001b[0m\n",
      "\u001b[0;32m~/venvs/dl4am/lib/python3.6/site-packages/torch/nn/parallel/data_parallel.py\u001b[0m in \u001b[0;36mforward\u001b[0;34m(self, *inputs, **kwargs)\u001b[0m\n\u001b[1;32m    157\u001b[0m         \u001b[0minputs\u001b[0m\u001b[0;34m,\u001b[0m \u001b[0mkwargs\u001b[0m \u001b[0;34m=\u001b[0m \u001b[0mself\u001b[0m\u001b[0;34m.\u001b[0m\u001b[0mscatter\u001b[0m\u001b[0;34m(\u001b[0m\u001b[0minputs\u001b[0m\u001b[0;34m,\u001b[0m \u001b[0mkwargs\u001b[0m\u001b[0;34m,\u001b[0m \u001b[0mself\u001b[0m\u001b[0;34m.\u001b[0m\u001b[0mdevice_ids\u001b[0m\u001b[0;34m)\u001b[0m\u001b[0;34m\u001b[0m\u001b[0m\n\u001b[1;32m    158\u001b[0m         \u001b[0;32mif\u001b[0m \u001b[0mlen\u001b[0m\u001b[0;34m(\u001b[0m\u001b[0mself\u001b[0m\u001b[0;34m.\u001b[0m\u001b[0mdevice_ids\u001b[0m\u001b[0;34m)\u001b[0m \u001b[0;34m==\u001b[0m \u001b[0;36m1\u001b[0m\u001b[0;34m:\u001b[0m\u001b[0;34m\u001b[0m\u001b[0m\n\u001b[0;32m--> 159\u001b[0;31m             \u001b[0;32mreturn\u001b[0m \u001b[0mself\u001b[0m\u001b[0;34m.\u001b[0m\u001b[0mmodule\u001b[0m\u001b[0;34m(\u001b[0m\u001b[0;34m*\u001b[0m\u001b[0minputs\u001b[0m\u001b[0;34m[\u001b[0m\u001b[0;36m0\u001b[0m\u001b[0;34m]\u001b[0m\u001b[0;34m,\u001b[0m \u001b[0;34m**\u001b[0m\u001b[0mkwargs\u001b[0m\u001b[0;34m[\u001b[0m\u001b[0;36m0\u001b[0m\u001b[0;34m]\u001b[0m\u001b[0;34m)\u001b[0m\u001b[0;34m\u001b[0m\u001b[0m\n\u001b[0m\u001b[1;32m    160\u001b[0m         \u001b[0mreplicas\u001b[0m \u001b[0;34m=\u001b[0m \u001b[0mself\u001b[0m\u001b[0;34m.\u001b[0m\u001b[0mreplicate\u001b[0m\u001b[0;34m(\u001b[0m\u001b[0mself\u001b[0m\u001b[0;34m.\u001b[0m\u001b[0mmodule\u001b[0m\u001b[0;34m,\u001b[0m \u001b[0mself\u001b[0m\u001b[0;34m.\u001b[0m\u001b[0mdevice_ids\u001b[0m\u001b[0;34m[\u001b[0m\u001b[0;34m:\u001b[0m\u001b[0mlen\u001b[0m\u001b[0;34m(\u001b[0m\u001b[0minputs\u001b[0m\u001b[0;34m)\u001b[0m\u001b[0;34m]\u001b[0m\u001b[0;34m)\u001b[0m\u001b[0;34m\u001b[0m\u001b[0m\n\u001b[1;32m    161\u001b[0m         \u001b[0moutputs\u001b[0m \u001b[0;34m=\u001b[0m \u001b[0mself\u001b[0m\u001b[0;34m.\u001b[0m\u001b[0mparallel_apply\u001b[0m\u001b[0;34m(\u001b[0m\u001b[0mreplicas\u001b[0m\u001b[0;34m,\u001b[0m \u001b[0minputs\u001b[0m\u001b[0;34m,\u001b[0m \u001b[0mkwargs\u001b[0m\u001b[0;34m)\u001b[0m\u001b[0;34m\u001b[0m\u001b[0m\n",
      "\u001b[0;32m~/venvs/dl4am/lib/python3.6/site-packages/torch/nn/modules/module.py\u001b[0m in \u001b[0;36m_call_impl\u001b[0;34m(self, *input, **kwargs)\u001b[0m\n\u001b[1;32m    725\u001b[0m             \u001b[0mresult\u001b[0m \u001b[0;34m=\u001b[0m \u001b[0mself\u001b[0m\u001b[0;34m.\u001b[0m\u001b[0m_slow_forward\u001b[0m\u001b[0;34m(\u001b[0m\u001b[0;34m*\u001b[0m\u001b[0minput\u001b[0m\u001b[0;34m,\u001b[0m \u001b[0;34m**\u001b[0m\u001b[0mkwargs\u001b[0m\u001b[0;34m)\u001b[0m\u001b[0;34m\u001b[0m\u001b[0m\n\u001b[1;32m    726\u001b[0m         \u001b[0;32melse\u001b[0m\u001b[0;34m:\u001b[0m\u001b[0;34m\u001b[0m\u001b[0m\n\u001b[0;32m--> 727\u001b[0;31m             \u001b[0mresult\u001b[0m \u001b[0;34m=\u001b[0m \u001b[0mself\u001b[0m\u001b[0;34m.\u001b[0m\u001b[0mforward\u001b[0m\u001b[0;34m(\u001b[0m\u001b[0;34m*\u001b[0m\u001b[0minput\u001b[0m\u001b[0;34m,\u001b[0m \u001b[0;34m**\u001b[0m\u001b[0mkwargs\u001b[0m\u001b[0;34m)\u001b[0m\u001b[0;34m\u001b[0m\u001b[0m\n\u001b[0m\u001b[1;32m    728\u001b[0m         for hook in itertools.chain(\n\u001b[1;32m    729\u001b[0m                 \u001b[0m_global_forward_hooks\u001b[0m\u001b[0;34m.\u001b[0m\u001b[0mvalues\u001b[0m\u001b[0;34m(\u001b[0m\u001b[0;34m)\u001b[0m\u001b[0;34m,\u001b[0m\u001b[0;34m\u001b[0m\u001b[0m\n",
      "\u001b[0;32m~/dl4am/training/main.py\u001b[0m in \u001b[0;36mforward\u001b[0;34m(self, spec)\u001b[0m\n\u001b[1;32m     75\u001b[0m     \u001b[0;32mdef\u001b[0m \u001b[0mforward\u001b[0m\u001b[0;34m(\u001b[0m\u001b[0mself\u001b[0m\u001b[0;34m,\u001b[0m \u001b[0mspec\u001b[0m\u001b[0;34m)\u001b[0m\u001b[0;34m:\u001b[0m\u001b[0;34m\u001b[0m\u001b[0m\n\u001b[1;32m     76\u001b[0m \u001b[0;34m\u001b[0m\u001b[0m\n\u001b[0;32m---> 77\u001b[0;31m         \u001b[0mx\u001b[0m \u001b[0;34m=\u001b[0m \u001b[0mself\u001b[0m\u001b[0;34m.\u001b[0m\u001b[0mbackend\u001b[0m\u001b[0;34m(\u001b[0m\u001b[0mself\u001b[0m\u001b[0;34m.\u001b[0m\u001b[0mfrontend\u001b[0m\u001b[0;34m(\u001b[0m\u001b[0mspec\u001b[0m\u001b[0;34m)\u001b[0m\u001b[0;34m)\u001b[0m\u001b[0;34m\u001b[0m\u001b[0m\n\u001b[0m\u001b[1;32m     78\u001b[0m \u001b[0;34m\u001b[0m\u001b[0m\n\u001b[1;32m     79\u001b[0m         \u001b[0;32mreturn\u001b[0m \u001b[0mx\u001b[0m\u001b[0;34m\u001b[0m\u001b[0m\n",
      "\u001b[0;32m~/venvs/dl4am/lib/python3.6/site-packages/torch/nn/modules/module.py\u001b[0m in \u001b[0;36m_call_impl\u001b[0;34m(self, *input, **kwargs)\u001b[0m\n\u001b[1;32m    725\u001b[0m             \u001b[0mresult\u001b[0m \u001b[0;34m=\u001b[0m \u001b[0mself\u001b[0m\u001b[0;34m.\u001b[0m\u001b[0m_slow_forward\u001b[0m\u001b[0;34m(\u001b[0m\u001b[0;34m*\u001b[0m\u001b[0minput\u001b[0m\u001b[0;34m,\u001b[0m \u001b[0;34m**\u001b[0m\u001b[0mkwargs\u001b[0m\u001b[0;34m)\u001b[0m\u001b[0;34m\u001b[0m\u001b[0m\n\u001b[1;32m    726\u001b[0m         \u001b[0;32melse\u001b[0m\u001b[0;34m:\u001b[0m\u001b[0;34m\u001b[0m\u001b[0m\n\u001b[0;32m--> 727\u001b[0;31m             \u001b[0mresult\u001b[0m \u001b[0;34m=\u001b[0m \u001b[0mself\u001b[0m\u001b[0;34m.\u001b[0m\u001b[0mforward\u001b[0m\u001b[0;34m(\u001b[0m\u001b[0;34m*\u001b[0m\u001b[0minput\u001b[0m\u001b[0;34m,\u001b[0m \u001b[0;34m**\u001b[0m\u001b[0mkwargs\u001b[0m\u001b[0;34m)\u001b[0m\u001b[0;34m\u001b[0m\u001b[0m\n\u001b[0m\u001b[1;32m    728\u001b[0m         for hook in itertools.chain(\n\u001b[1;32m    729\u001b[0m                 \u001b[0m_global_forward_hooks\u001b[0m\u001b[0;34m.\u001b[0m\u001b[0mvalues\u001b[0m\u001b[0;34m(\u001b[0m\u001b[0;34m)\u001b[0m\u001b[0;34m,\u001b[0m\u001b[0;34m\u001b[0m\u001b[0m\n",
      "\u001b[0;32m~/dl4am/training/frontend.py\u001b[0m in \u001b[0;36mforward\u001b[0;34m(self, inputs)\u001b[0m\n\u001b[1;32m    144\u001b[0m         \u001b[0;31m#inputs shape = (Batch,Channel,Freq,Time)\u001b[0m\u001b[0;34m\u001b[0m\u001b[0;34m\u001b[0m\u001b[0m\n\u001b[1;32m    145\u001b[0m \u001b[0;34m\u001b[0m\u001b[0m\n\u001b[0;32m--> 146\u001b[0;31m         \u001b[0mx\u001b[0m \u001b[0;34m=\u001b[0m \u001b[0mself\u001b[0m\u001b[0;34m.\u001b[0m\u001b[0mspec_bn\u001b[0m\u001b[0;34m(\u001b[0m\u001b[0minputs\u001b[0m\u001b[0;34m)\u001b[0m \u001b[0;31m#\u001b[0m\u001b[0;34m\u001b[0m\u001b[0m\n\u001b[0m\u001b[1;32m    147\u001b[0m \u001b[0;34m\u001b[0m\u001b[0m\n\u001b[1;32m    148\u001b[0m         \u001b[0mx\u001b[0m \u001b[0;34m=\u001b[0m \u001b[0mgetattr\u001b[0m\u001b[0;34m(\u001b[0m\u001b[0mself\u001b[0m\u001b[0;34m,\u001b[0m\u001b[0;34mf\"conv_block{1}\"\u001b[0m\u001b[0;34m)\u001b[0m\u001b[0;34m(\u001b[0m\u001b[0mx\u001b[0m\u001b[0;34m)\u001b[0m\u001b[0;34m\u001b[0m\u001b[0m\n",
      "\u001b[0;32m~/venvs/dl4am/lib/python3.6/site-packages/torch/nn/modules/module.py\u001b[0m in \u001b[0;36m_call_impl\u001b[0;34m(self, *input, **kwargs)\u001b[0m\n\u001b[1;32m    725\u001b[0m             \u001b[0mresult\u001b[0m \u001b[0;34m=\u001b[0m \u001b[0mself\u001b[0m\u001b[0;34m.\u001b[0m\u001b[0m_slow_forward\u001b[0m\u001b[0;34m(\u001b[0m\u001b[0;34m*\u001b[0m\u001b[0minput\u001b[0m\u001b[0;34m,\u001b[0m \u001b[0;34m**\u001b[0m\u001b[0mkwargs\u001b[0m\u001b[0;34m)\u001b[0m\u001b[0;34m\u001b[0m\u001b[0m\n\u001b[1;32m    726\u001b[0m         \u001b[0;32melse\u001b[0m\u001b[0;34m:\u001b[0m\u001b[0;34m\u001b[0m\u001b[0m\n\u001b[0;32m--> 727\u001b[0;31m             \u001b[0mresult\u001b[0m \u001b[0;34m=\u001b[0m \u001b[0mself\u001b[0m\u001b[0;34m.\u001b[0m\u001b[0mforward\u001b[0m\u001b[0;34m(\u001b[0m\u001b[0;34m*\u001b[0m\u001b[0minput\u001b[0m\u001b[0;34m,\u001b[0m \u001b[0;34m**\u001b[0m\u001b[0mkwargs\u001b[0m\u001b[0;34m)\u001b[0m\u001b[0;34m\u001b[0m\u001b[0m\n\u001b[0m\u001b[1;32m    728\u001b[0m         for hook in itertools.chain(\n\u001b[1;32m    729\u001b[0m                 \u001b[0m_global_forward_hooks\u001b[0m\u001b[0;34m.\u001b[0m\u001b[0mvalues\u001b[0m\u001b[0;34m(\u001b[0m\u001b[0;34m)\u001b[0m\u001b[0;34m,\u001b[0m\u001b[0;34m\u001b[0m\u001b[0m\n",
      "\u001b[0;32m~/venvs/dl4am/lib/python3.6/site-packages/torch/nn/modules/batchnorm.py\u001b[0m in \u001b[0;36mforward\u001b[0;34m(self, input)\u001b[0m\n\u001b[1;32m    134\u001b[0m             \u001b[0mself\u001b[0m\u001b[0;34m.\u001b[0m\u001b[0mrunning_mean\u001b[0m \u001b[0;32mif\u001b[0m \u001b[0;32mnot\u001b[0m \u001b[0mself\u001b[0m\u001b[0;34m.\u001b[0m\u001b[0mtraining\u001b[0m \u001b[0;32mor\u001b[0m \u001b[0mself\u001b[0m\u001b[0;34m.\u001b[0m\u001b[0mtrack_running_stats\u001b[0m \u001b[0;32melse\u001b[0m \u001b[0;32mNone\u001b[0m\u001b[0;34m,\u001b[0m\u001b[0;34m\u001b[0m\u001b[0m\n\u001b[1;32m    135\u001b[0m             \u001b[0mself\u001b[0m\u001b[0;34m.\u001b[0m\u001b[0mrunning_var\u001b[0m \u001b[0;32mif\u001b[0m \u001b[0;32mnot\u001b[0m \u001b[0mself\u001b[0m\u001b[0;34m.\u001b[0m\u001b[0mtraining\u001b[0m \u001b[0;32mor\u001b[0m \u001b[0mself\u001b[0m\u001b[0;34m.\u001b[0m\u001b[0mtrack_running_stats\u001b[0m \u001b[0;32melse\u001b[0m \u001b[0;32mNone\u001b[0m\u001b[0;34m,\u001b[0m\u001b[0;34m\u001b[0m\u001b[0m\n\u001b[0;32m--> 136\u001b[0;31m             self.weight, self.bias, bn_training, exponential_average_factor, self.eps)\n\u001b[0m\u001b[1;32m    137\u001b[0m \u001b[0;34m\u001b[0m\u001b[0m\n\u001b[1;32m    138\u001b[0m \u001b[0;34m\u001b[0m\u001b[0m\n",
      "\u001b[0;32m~/venvs/dl4am/lib/python3.6/site-packages/torch/nn/functional.py\u001b[0m in \u001b[0;36mbatch_norm\u001b[0;34m(input, running_mean, running_var, weight, bias, training, momentum, eps)\u001b[0m\n\u001b[1;32m   2056\u001b[0m     return torch.batch_norm(\n\u001b[1;32m   2057\u001b[0m         \u001b[0minput\u001b[0m\u001b[0;34m,\u001b[0m \u001b[0mweight\u001b[0m\u001b[0;34m,\u001b[0m \u001b[0mbias\u001b[0m\u001b[0;34m,\u001b[0m \u001b[0mrunning_mean\u001b[0m\u001b[0;34m,\u001b[0m \u001b[0mrunning_var\u001b[0m\u001b[0;34m,\u001b[0m\u001b[0;34m\u001b[0m\u001b[0m\n\u001b[0;32m-> 2058\u001b[0;31m         \u001b[0mtraining\u001b[0m\u001b[0;34m,\u001b[0m \u001b[0mmomentum\u001b[0m\u001b[0;34m,\u001b[0m \u001b[0meps\u001b[0m\u001b[0;34m,\u001b[0m \u001b[0mtorch\u001b[0m\u001b[0;34m.\u001b[0m\u001b[0mbackends\u001b[0m\u001b[0;34m.\u001b[0m\u001b[0mcudnn\u001b[0m\u001b[0;34m.\u001b[0m\u001b[0menabled\u001b[0m\u001b[0;34m\u001b[0m\u001b[0m\n\u001b[0m\u001b[1;32m   2059\u001b[0m     )\n\u001b[1;32m   2060\u001b[0m \u001b[0;34m\u001b[0m\u001b[0m\n",
      "\u001b[0;31mRuntimeError\u001b[0m: CUDA out of memory. Tried to allocate 20.00 MiB (GPU 0; 10.76 GiB total capacity; 5.02 GiB already allocated; 3.56 MiB free; 5.04 GiB reserved in total by PyTorch)"
     ]
    }
   ],
   "source": [
    "out = only_self_att(torch.Tensor(spec))"
   ]
  },
  {
   "cell_type": "code",
   "execution_count": 26,
   "id": "statewide-burlington",
   "metadata": {},
   "outputs": [],
   "source": [
    "out = out.detach().cpu().numpy()"
   ]
  },
  {
   "cell_type": "code",
   "execution_count": 28,
   "id": "interim-invalid",
   "metadata": {},
   "outputs": [],
   "source": [
    "y_pred = out.mean(axis=0)"
   ]
  },
  {
   "cell_type": "code",
   "execution_count": 30,
   "id": "secure-backing",
   "metadata": {},
   "outputs": [
    {
     "data": {
      "text/plain": [
       "array([0.38810593, 0.1026621 , 0.1225234 , 0.19103578, 0.05083672,\n",
       "       0.02968637, 0.02362555, 0.02614594, 0.0574967 , 0.01110597,\n",
       "       0.01166383, 0.02996881, 0.00721249, 0.01488298, 0.06786168,\n",
       "       0.01104854, 0.09469134, 0.00723504, 0.01298033, 0.08154478,\n",
       "       0.02036175, 0.02590569, 0.00505243, 0.02340146, 0.056233  ,\n",
       "       0.01059704, 0.02389043, 0.0912005 , 0.00827673, 0.01011747,\n",
       "       0.01900895, 0.00404203, 0.01491436, 0.0072487 , 0.02532057,\n",
       "       0.00838915, 0.02073107, 0.00349474, 0.00553238, 0.01076582,\n",
       "       0.00739654, 0.01023124, 0.0331551 , 0.01829976, 0.00842798,\n",
       "       0.00341328, 0.03193178, 0.00375988, 0.00522221, 0.00825472],\n",
       "      dtype=float32)"
      ]
     },
     "execution_count": 30,
     "metadata": {},
     "output_type": "execute_result"
    }
   ],
   "source": [
    "y_pred"
   ]
  },
  {
   "cell_type": "code",
   "execution_count": 39,
   "id": "ecological-kruger",
   "metadata": {},
   "outputs": [
    {
     "data": {
      "text/plain": [
       "['rock',\n",
       " 'indie',\n",
       " 'alternative',\n",
       " 'pop',\n",
       " 'indie rock',\n",
       " 'hard rock',\n",
       " '80s',\n",
       " 'classic rock',\n",
       " 'alternative rock',\n",
       " 'punk']"
      ]
     },
     "execution_count": 39,
     "metadata": {},
     "output_type": "execute_result"
    }
   ],
   "source": [
    "np.array(tagList)[np.argsort(y_pred)[::-1]][:10].tolist()"
   ]
  },
  {
   "cell_type": "code",
   "execution_count": null,
   "id": "sophisticated-customer",
   "metadata": {},
   "outputs": [],
   "source": []
  }
 ],
 "metadata": {
  "kernelspec": {
   "display_name": "dl4am",
   "language": "python",
   "name": "dl4am"
  },
  "language_info": {
   "codemirror_mode": {
    "name": "ipython",
    "version": 3
   },
   "file_extension": ".py",
   "mimetype": "text/x-python",
   "name": "python",
   "nbconvert_exporter": "python",
   "pygments_lexer": "ipython3",
   "version": "3.6.6"
  }
 },
 "nbformat": 4,
 "nbformat_minor": 5
}
