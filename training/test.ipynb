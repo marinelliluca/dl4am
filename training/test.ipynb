{
 "cells": [
  {
   "cell_type": "code",
   "execution_count": 1,
   "id": "strong-bermuda",
   "metadata": {},
   "outputs": [],
   "source": [
    "import numpy as np\n",
    "import torch\n",
    "import torch.nn as nn\n",
    "import torch.nn.functional as F\n",
    "from sklearn import metrics\n",
    "from torch.autograd import Variable\n",
    "\n",
    "from frontend import Frontend_mine\n",
    "from backend import Backend\n",
    "from data_loader import get_DataLoader\n",
    "import datetime\n",
    "import warnings\n",
    "import librosa\n",
    "\n",
    "from main import AssembleModel\n",
    "\n",
    "# define here all the parameters\n",
    "main_dict = {\"frontend_dict\":\n",
    "             {\"list_out_channels\":[128,128,256,256,256,256], \n",
    "              \"list_kernel_sizes\":[(3,3),(3,3),(3,3),(3,3),(3,3),(3,3)],\n",
    "              \"list_pool_sizes\":  [(3,2),(2,2),(2,2),(2,1),(2,1),(2,1)], \n",
    "              \"list_avgpool_flags\":[False,False,False,False,False,True]},\n",
    "             \n",
    "             \"backend_dict\":\n",
    "             {\"n_class\":50,\n",
    "              \"bert_config\":None, \n",
    "              \"recurrent_units\":2, \n",
    "              \"bidirectional\":True}, #  pass recurrent_units = None to deactivate\n",
    "             \n",
    "             \"training_dict\":\n",
    "             {\"dataset\":'msd',\n",
    "              \"architecture\":'without_seq2seq_5s',\n",
    "              \"n_epochs\":1000,\n",
    "              \"learning_rate\":1e-4},\n",
    "             \n",
    "             \"data_loader_dict\":\n",
    "             {\"path_to_repo\":'~/dl4am/',\n",
    "              \"batch_size\":128,\n",
    "              \"input_length\":5, # [s]\n",
    "              \"spec_path\":'/import/c4dm-datasets/rmri_self_att/msd',\n",
    "              \"audio_path\":'/import/c4dm-03/Databases/songs/',\n",
    "              \"mode\":'train', \n",
    "              \"num_workers\":20}}"
   ]
  },
  {
   "cell_type": "code",
   "execution_count": 2,
   "id": "artificial-shopping",
   "metadata": {},
   "outputs": [],
   "source": [
    "def compute_melspectrogram(audio_fn):\n",
    "    with warnings.catch_warnings():\n",
    "        warnings.simplefilter(\"ignore\")\n",
    "        x, _ = librosa.core.load(audio_fn, sr=16000, res_type='kaiser_fast')\n",
    "        spec = librosa.core.amplitude_to_db(librosa.feature.melspectrogram(x, \n",
    "                                                                           sr=16000, \n",
    "                                                                           n_fft=512, \n",
    "                                                                           hop_length=256, \n",
    "                                                                           n_mels=96))\n",
    "    return spec"
   ]
  },
  {
   "cell_type": "code",
   "execution_count": 3,
   "id": "literary-article",
   "metadata": {},
   "outputs": [],
   "source": [
    "def load_parameters(model, filename): \n",
    "    model = torch.nn.DataParallel(model)\n",
    "    S = torch.load(filename)\n",
    "    model.load_state_dict(S)\n",
    "    return model\n",
    "\n",
    "def test(model, data_loader):\n",
    "    model.eval()\n",
    "    y_score = []\n",
    "    y_true = []\n",
    "    ctr = 0\n",
    "    for x,y in data_loader:\n",
    "        ctr+=1\n",
    "\n",
    "        # NB: in validation mode the output of the DataLoader\n",
    "        # has a shape of (1,n_chunks,F,T), where n_chunks = total time frames // input_length\n",
    "        x = x.permute(1,0,2,3) \n",
    "        # by permuting it here we are treating n_chunks as the batch_size\n",
    "\n",
    "        # forward\n",
    "        out = model(x)\n",
    "        out = out.detach().cpu()\n",
    "\n",
    "        y_score.append(out.numpy().mean(axis=0))\n",
    "\n",
    "        y_true.append(y.detach().numpy())\n",
    "\n",
    "        if ctr % 1000 == 0:\n",
    "            print(\"[%s] Valid Iter [%d/%d] \" %\n",
    "                  (datetime.datetime.now().strftime('%Y-%m-%d %H:%M:%S'),\n",
    "                   ctr, len(data_loader)))\n",
    "\n",
    "    y_score = np.array(y_score).squeeze()\n",
    "    y_true = np.array(y_true).squeeze().astype(int)\n",
    "\n",
    "    roc_auc  = metrics.roc_auc_score(y_true, y_score, average='macro')\n",
    "    pr_auc = metrics.average_precision_score(y_true, y_score, average='macro')\n",
    "    print('roc_auc: %.4f' % roc_auc)\n",
    "    print('pr_auc: %.4f' % pr_auc)"
   ]
  },
  {
   "cell_type": "code",
   "execution_count": 4,
   "id": "mysterious-asset",
   "metadata": {},
   "outputs": [
    {
     "data": {
      "text/plain": [
       "28435"
      ]
     },
     "execution_count": 4,
     "metadata": {},
     "output_type": "execute_result"
    }
   ],
   "source": [
    "test_data = get_DataLoader(batch_size=1, input_length=5, mode='test', num_workers=10)\n",
    "len(test_data)"
   ]
  },
  {
   "cell_type": "code",
   "execution_count": 4,
   "id": "stone-journal",
   "metadata": {},
   "outputs": [],
   "source": [
    "bidirectional_recurrent_self_att = load_parameters(AssembleModel(main_dict),\"../models/best_model_bidirectional.pth\")"
   ]
  },
  {
   "cell_type": "code",
   "execution_count": 5,
   "id": "included-husband",
   "metadata": {},
   "outputs": [],
   "source": [
    "main_dict[\"backend_dict\"][\"bidirectional\"] = False\n",
    "recurrent_self_att = load_parameters(AssembleModel(main_dict),\"../models/best_model_sacrnn_5s.pth\")"
   ]
  },
  {
   "cell_type": "code",
   "execution_count": 6,
   "id": "automated-network",
   "metadata": {},
   "outputs": [],
   "source": [
    "main_dict[\"backend_dict\"][\"recurrent_units\"] = None\n",
    "only_self_att = load_parameters(AssembleModel(main_dict),\"../models/best_model_no_recurrent.pth\")"
   ]
  },
  {
   "cell_type": "code",
   "execution_count": 8,
   "id": "connected-mouse",
   "metadata": {},
   "outputs": [
    {
     "name": "stdout",
     "output_type": "stream",
     "text": [
      "[2021-03-14 11:14:43] Valid Iter [1000/28435] \n",
      "[2021-03-14 11:14:59] Valid Iter [2000/28435] \n",
      "[2021-03-14 11:15:15] Valid Iter [3000/28435] \n",
      "[2021-03-14 11:15:30] Valid Iter [4000/28435] \n",
      "[2021-03-14 11:15:46] Valid Iter [5000/28435] \n",
      "[2021-03-14 11:16:02] Valid Iter [6000/28435] \n",
      "[2021-03-14 11:16:17] Valid Iter [7000/28435] \n",
      "[2021-03-14 11:16:33] Valid Iter [8000/28435] \n",
      "[2021-03-14 11:16:48] Valid Iter [9000/28435] \n",
      "[2021-03-14 11:17:04] Valid Iter [10000/28435] \n",
      "[2021-03-14 11:17:20] Valid Iter [11000/28435] \n",
      "[2021-03-14 11:17:35] Valid Iter [12000/28435] \n",
      "[2021-03-14 11:17:51] Valid Iter [13000/28435] \n",
      "[2021-03-14 11:18:07] Valid Iter [14000/28435] \n",
      "[2021-03-14 11:18:22] Valid Iter [15000/28435] \n",
      "[2021-03-14 11:18:37] Valid Iter [16000/28435] \n",
      "[2021-03-14 11:18:52] Valid Iter [17000/28435] \n",
      "[2021-03-14 11:19:07] Valid Iter [18000/28435] \n",
      "[2021-03-14 11:19:22] Valid Iter [19000/28435] \n",
      "[2021-03-14 11:19:38] Valid Iter [20000/28435] \n",
      "[2021-03-14 11:19:53] Valid Iter [21000/28435] \n",
      "[2021-03-14 11:20:08] Valid Iter [22000/28435] \n",
      "[2021-03-14 11:20:23] Valid Iter [23000/28435] \n",
      "[2021-03-14 11:20:39] Valid Iter [24000/28435] \n",
      "[2021-03-14 11:20:54] Valid Iter [25000/28435] \n",
      "[2021-03-14 11:21:10] Valid Iter [26000/28435] \n",
      "[2021-03-14 11:21:25] Valid Iter [27000/28435] \n",
      "[2021-03-14 11:21:40] Valid Iter [28000/28435] \n",
      "roc_auc: 0.8914\n",
      "pr_auc: 0.3280\n"
     ]
    }
   ],
   "source": [
    "test(bidirectional_recurrent_self_att,test_data)"
   ]
  },
  {
   "cell_type": "code",
   "execution_count": 5,
   "id": "brilliant-support",
   "metadata": {},
   "outputs": [
    {
     "name": "stdout",
     "output_type": "stream",
     "text": [
      "[2021-03-12 16:18:31] Valid Iter [1000/28435] \n",
      "[2021-03-12 16:18:45] Valid Iter [2000/28435] \n",
      "[2021-03-12 16:18:59] Valid Iter [3000/28435] \n",
      "[2021-03-12 16:19:13] Valid Iter [4000/28435] \n",
      "[2021-03-12 16:19:28] Valid Iter [5000/28435] \n",
      "[2021-03-12 16:19:42] Valid Iter [6000/28435] \n",
      "[2021-03-12 16:19:56] Valid Iter [7000/28435] \n",
      "[2021-03-12 16:20:10] Valid Iter [8000/28435] \n",
      "[2021-03-12 16:20:25] Valid Iter [9000/28435] \n",
      "[2021-03-12 16:20:39] Valid Iter [10000/28435] \n",
      "[2021-03-12 16:20:53] Valid Iter [11000/28435] \n",
      "[2021-03-12 16:21:08] Valid Iter [12000/28435] \n",
      "[2021-03-12 16:21:22] Valid Iter [13000/28435] \n",
      "[2021-03-12 16:21:36] Valid Iter [14000/28435] \n",
      "[2021-03-12 16:21:50] Valid Iter [15000/28435] \n",
      "[2021-03-12 16:22:05] Valid Iter [16000/28435] \n",
      "[2021-03-12 16:22:19] Valid Iter [17000/28435] \n",
      "[2021-03-12 16:22:33] Valid Iter [18000/28435] \n",
      "[2021-03-12 16:22:47] Valid Iter [19000/28435] \n",
      "[2021-03-12 16:23:02] Valid Iter [20000/28435] \n",
      "[2021-03-12 16:23:16] Valid Iter [21000/28435] \n",
      "[2021-03-12 16:23:30] Valid Iter [22000/28435] \n",
      "[2021-03-12 16:23:45] Valid Iter [23000/28435] \n",
      "[2021-03-12 16:23:59] Valid Iter [24000/28435] \n",
      "[2021-03-12 16:24:13] Valid Iter [25000/28435] \n",
      "[2021-03-12 16:24:27] Valid Iter [26000/28435] \n",
      "[2021-03-12 16:24:42] Valid Iter [27000/28435] \n",
      "[2021-03-12 16:24:56] Valid Iter [28000/28435] \n",
      "roc_auc: 0.8919\n",
      "pr_auc: 0.3294\n"
     ]
    }
   ],
   "source": [
    "test(recurrent_self_att,test_data)"
   ]
  },
  {
   "cell_type": "code",
   "execution_count": 6,
   "id": "statutory-sweden",
   "metadata": {},
   "outputs": [
    {
     "name": "stdout",
     "output_type": "stream",
     "text": [
      "[2021-03-12 16:25:18] Valid Iter [1000/28435] \n",
      "[2021-03-12 16:25:31] Valid Iter [2000/28435] \n",
      "[2021-03-12 16:25:45] Valid Iter [3000/28435] \n",
      "[2021-03-12 16:25:59] Valid Iter [4000/28435] \n",
      "[2021-03-12 16:26:13] Valid Iter [5000/28435] \n",
      "[2021-03-12 16:26:26] Valid Iter [6000/28435] \n",
      "[2021-03-12 16:26:40] Valid Iter [7000/28435] \n",
      "[2021-03-12 16:26:54] Valid Iter [8000/28435] \n",
      "[2021-03-12 16:27:08] Valid Iter [9000/28435] \n",
      "[2021-03-12 16:27:22] Valid Iter [10000/28435] \n",
      "[2021-03-12 16:27:35] Valid Iter [11000/28435] \n",
      "[2021-03-12 16:27:49] Valid Iter [12000/28435] \n",
      "[2021-03-12 16:28:02] Valid Iter [13000/28435] \n",
      "[2021-03-12 16:28:16] Valid Iter [14000/28435] \n",
      "[2021-03-12 16:28:29] Valid Iter [15000/28435] \n",
      "[2021-03-12 16:28:43] Valid Iter [16000/28435] \n",
      "[2021-03-12 16:28:56] Valid Iter [17000/28435] \n",
      "[2021-03-12 16:29:09] Valid Iter [18000/28435] \n",
      "[2021-03-12 16:29:23] Valid Iter [19000/28435] \n",
      "[2021-03-12 16:29:36] Valid Iter [20000/28435] \n",
      "[2021-03-12 16:29:49] Valid Iter [21000/28435] \n",
      "[2021-03-12 16:30:03] Valid Iter [22000/28435] \n",
      "[2021-03-12 16:30:16] Valid Iter [23000/28435] \n",
      "[2021-03-12 16:30:29] Valid Iter [24000/28435] \n",
      "[2021-03-12 16:30:42] Valid Iter [25000/28435] \n",
      "[2021-03-12 16:30:56] Valid Iter [26000/28435] \n",
      "[2021-03-12 16:31:09] Valid Iter [27000/28435] \n",
      "[2021-03-12 16:31:22] Valid Iter [28000/28435] \n",
      "roc_auc: 0.8922\n",
      "pr_auc: 0.3294\n"
     ]
    }
   ],
   "source": [
    "test(only_self_att,test_data)"
   ]
  },
  {
   "cell_type": "code",
   "execution_count": 8,
   "id": "swiss-arbor",
   "metadata": {},
   "outputs": [
    {
     "name": "stdout",
     "output_type": "stream",
     "text": [
      "5715124\n",
      "4925620\n"
     ]
    }
   ],
   "source": [
    "print(sum(p.numel() for p in recurrent_self_att.parameters()))\n",
    "print(sum(p.numel() for p in only_self_att.parameters()))"
   ]
  },
  {
   "cell_type": "code",
   "execution_count": 21,
   "id": "established-interval",
   "metadata": {},
   "outputs": [],
   "source": [
    "with open('msd_metadata/50tagList.txt') as f:\n",
    "    tagList = f.readlines()\n",
    "    \n",
    "tagList = [line.replace('\\n','') for line in tagList]"
   ]
  },
  {
   "cell_type": "code",
   "execution_count": 15,
   "id": "progressive-commission",
   "metadata": {},
   "outputs": [],
   "source": [
    "def first_10_tags(filename):\n",
    "\n",
    "    input_length = 5*16000//256\n",
    "\n",
    "    whole_spec = compute_melspectrogram(filename)\n",
    "\n",
    "    n_chunks = whole_spec.shape[1] // input_length\n",
    "    spec = np.zeros((n_chunks,whole_spec.shape[0],input_length)) # stack of chunks\n",
    "    for i in range(n_chunks):\n",
    "        spec[i]=whole_spec[:,i*input_length:(i+1)*input_length]\n",
    "\n",
    "    spec = spec[:,np.newaxis,:,:]\n",
    "    \n",
    "    out = only_self_att(torch.Tensor(spec))\n",
    "    \n",
    "    out = out.detach().cpu().numpy()\n",
    "    \n",
    "    y_pred = out.mean(axis=0)\n",
    "    \n",
    "    print(np.array(tagList)[np.argsort(y_pred)[::-1]][:10].tolist())\n",
    "    print(np.sort(y_pred)[::-1][:10].tolist())"
   ]
  },
  {
   "cell_type": "code",
   "execution_count": 16,
   "id": "hybrid-worcester",
   "metadata": {},
   "outputs": [
    {
     "name": "stdout",
     "output_type": "stream",
     "text": [
      "['rock', 'indie', 'alternative', 'hard rock', 'pop', 'indie rock', '80s', 'alternative rock', 'classic rock', 'electronic']\n",
      "[0.37707647681236267, 0.1710204780101776, 0.12224441766738892, 0.10062480717897415, 0.09020650386810303, 0.0784156396985054, 0.07574423402547836, 0.0631411075592041, 0.057250697165727615, 0.056344885379076004]\n"
     ]
    }
   ],
   "source": [
    "first_10_tags(\"track_rock.mp3\")"
   ]
  },
  {
   "cell_type": "code",
   "execution_count": 20,
   "id": "composite-renaissance",
   "metadata": {},
   "outputs": [
    {
     "name": "stdout",
     "output_type": "stream",
     "text": [
      "['pop', 'female vocalists', 'electronic', 'rock', 'indie', 'alternative', 'dance', 'soul', 'jazz', 'chillout']\n",
      "[0.21844559907913208, 0.2004319131374359, 0.16902250051498413, 0.13392417132854462, 0.10215485095977783, 0.09331976622343063, 0.07454238831996918, 0.05603437125682831, 0.052841540426015854, 0.05281108617782593]\n"
     ]
    }
   ],
   "source": [
    "first_10_tags(\"track_pop.mp3\") #https://www.youtube.com/watch?v=EmSC6ZsxH10"
   ]
  },
  {
   "cell_type": "code",
   "execution_count": 22,
   "id": "mineral-dubai",
   "metadata": {},
   "outputs": [
    {
     "data": {
      "text/plain": [
       "['rock',\n",
       " 'pop',\n",
       " 'alternative',\n",
       " 'indie',\n",
       " 'electronic',\n",
       " 'female vocalists',\n",
       " 'dance',\n",
       " '00s',\n",
       " 'alternative rock',\n",
       " 'jazz',\n",
       " 'beautiful',\n",
       " 'metal',\n",
       " 'chillout',\n",
       " 'male vocalists',\n",
       " 'classic rock',\n",
       " 'soul',\n",
       " 'indie rock',\n",
       " 'Mellow',\n",
       " 'electronica',\n",
       " '80s',\n",
       " 'folk',\n",
       " '90s',\n",
       " 'chill',\n",
       " 'instrumental',\n",
       " 'punk',\n",
       " 'oldies',\n",
       " 'blues',\n",
       " 'hard rock',\n",
       " 'ambient',\n",
       " 'acoustic',\n",
       " 'experimental',\n",
       " 'female vocalist',\n",
       " 'guitar',\n",
       " 'Hip-Hop',\n",
       " '70s',\n",
       " 'party',\n",
       " 'country',\n",
       " 'easy listening',\n",
       " 'sexy',\n",
       " 'catchy',\n",
       " 'funk',\n",
       " 'electro',\n",
       " 'heavy metal',\n",
       " 'Progressive rock',\n",
       " '60s',\n",
       " 'rnb',\n",
       " 'indie pop',\n",
       " 'sad',\n",
       " 'House',\n",
       " 'happy']"
      ]
     },
     "execution_count": 22,
     "metadata": {},
     "output_type": "execute_result"
    }
   ],
   "source": [
    "tagList"
   ]
  },
  {
   "cell_type": "code",
   "execution_count": null,
   "id": "adjustable-magic",
   "metadata": {},
   "outputs": [],
   "source": []
  }
 ],
 "metadata": {
  "kernelspec": {
   "display_name": "embeddings_pipeline_dev",
   "language": "python",
   "name": "python3"
  },
  "language_info": {
   "codemirror_mode": {
    "name": "ipython",
    "version": 3
   },
   "file_extension": ".py",
   "mimetype": "text/x-python",
   "name": "python",
   "nbconvert_exporter": "python",
   "pygments_lexer": "ipython3",
   "version": "3.10.4"
  },
  "vscode": {
   "interpreter": {
    "hash": "25afc36bdd1f351ba26e01c2272523456c0ab32d7af87ae9c52e485253265920"
   }
  }
 },
 "nbformat": 4,
 "nbformat_minor": 5
}
