{
 "cells": [
  {
   "cell_type": "code",
   "execution_count": 1,
   "id": "liberal-adams",
   "metadata": {},
   "outputs": [
    {
     "name": "stdout",
     "output_type": "stream",
     "text": [
      "CNN(\n",
      "  (conv1): Conv2d(1, 6, kernel_size=(3, 3), stride=(1, 1))\n",
      "  (conv2): Conv2d(6, 16, kernel_size=(3, 3), stride=(1, 1))\n",
      "  (fc1): Linear(in_features=576, out_features=120, bias=True)\n",
      "  (fc2): Linear(in_features=120, out_features=84, bias=True)\n",
      "  (fc3): Linear(in_features=84, out_features=10, bias=True)\n",
      ")\n"
     ]
    }
   ],
   "source": [
    "from architectures.cnn_tutorial import *\n",
    "net = CNN()\n",
    "print(net)"
   ]
  },
  {
   "cell_type": "code",
   "execution_count": 2,
   "id": "coral-machine",
   "metadata": {},
   "outputs": [
    {
     "data": {
      "text/plain": [
       "81194"
      ]
     },
     "execution_count": 2,
     "metadata": {},
     "output_type": "execute_result"
    }
   ],
   "source": [
    "pytorch_total_params = sum(p.numel() for p in net.parameters() if p.requires_grad)\n",
    "pytorch_total_params"
   ]
  },
  {
   "cell_type": "code",
   "execution_count": 3,
   "id": "express-season",
   "metadata": {},
   "outputs": [],
   "source": [
    "from architectures.blocks.conv import BlockChoi"
   ]
  },
  {
   "cell_type": "code",
   "execution_count": 4,
   "id": "automotive-threat",
   "metadata": {},
   "outputs": [
    {
     "data": {
      "text/plain": [
       "torch.Size([32, 16, 1, 500])"
      ]
     },
     "execution_count": 4,
     "metadata": {},
     "output_type": "execute_result"
    }
   ],
   "source": [
    "m = BlockChoi(3,16,(3,3),(2,2),True)\n",
    "m(torch.rand((32,3,2,1000))).shape"
   ]
  },
  {
   "cell_type": "code",
   "execution_count": 5,
   "id": "polyphonic-terrorism",
   "metadata": {},
   "outputs": [
    {
     "data": {
      "text/plain": [
       "480"
      ]
     },
     "execution_count": 5,
     "metadata": {},
     "output_type": "execute_result"
    }
   ],
   "source": [
    "sum(p.numel() for p in m.parameters() if p.requires_grad)"
   ]
  },
  {
   "cell_type": "code",
   "execution_count": 6,
   "id": "primary-stick",
   "metadata": {},
   "outputs": [
    {
     "name": "stdout",
     "output_type": "stream",
     "text": [
      "BlockChoi(\n",
      "  (conv): Conv2dSame(3, 16, kernel_size=(3, 3), stride=(1, 1))\n",
      "  (bn): BatchNorm2d(16, eps=1e-05, momentum=0.1, affine=True, track_running_stats=True)\n",
      "  (activation): ELU(alpha=1.0)\n",
      "  (pool): AvgPool2d(kernel_size=(2, 2), stride=(2, 2), padding=0)\n",
      "  (dropout): Dropout(p=0.1, inplace=False)\n",
      ")\n"
     ]
    }
   ],
   "source": [
    "print(m)"
   ]
  },
  {
   "cell_type": "code",
   "execution_count": 7,
   "id": "clear-words",
   "metadata": {},
   "outputs": [],
   "source": [
    "from architectures.stacker import ConvStack"
   ]
  },
  {
   "cell_type": "code",
   "execution_count": 8,
   "id": "terminal-bunny",
   "metadata": {},
   "outputs": [
    {
     "name": "stdout",
     "output_type": "stream",
     "text": [
      "ConvStack(\n",
      "  (conv_block_0): BlockChoi(\n",
      "    (conv): Conv2dSame(1, 64, kernel_size=(3, 3), stride=(1, 1))\n",
      "    (bn): BatchNorm2d(64, eps=1e-05, momentum=0.1, affine=True, track_running_stats=True)\n",
      "    (activation): ELU(alpha=1.0)\n",
      "    (pool): MaxPool2d(kernel_size=(2, 2), stride=(2, 2), padding=0, dilation=1, ceil_mode=False)\n",
      "    (dropout): Dropout(p=0.1, inplace=False)\n",
      "  )\n",
      "  (conv_block_1): BlockChoi(\n",
      "    (conv): Conv2dSame(64, 128, kernel_size=(3, 3), stride=(1, 1))\n",
      "    (bn): BatchNorm2d(128, eps=1e-05, momentum=0.1, affine=True, track_running_stats=True)\n",
      "    (activation): ELU(alpha=1.0)\n",
      "    (pool): MaxPool2d(kernel_size=(2, 2), stride=(2, 2), padding=0, dilation=1, ceil_mode=False)\n",
      "    (dropout): Dropout(p=0.1, inplace=False)\n",
      "  )\n",
      "  (conv_block_2): BlockChoi(\n",
      "    (conv): Conv2dSame(128, 128, kernel_size=(3, 3), stride=(1, 1))\n",
      "    (bn): BatchNorm2d(128, eps=1e-05, momentum=0.1, affine=True, track_running_stats=True)\n",
      "    (activation): ELU(alpha=1.0)\n",
      "    (pool): MaxPool2d(kernel_size=(2, 2), stride=(2, 2), padding=0, dilation=1, ceil_mode=False)\n",
      "    (dropout): Dropout(p=0.1, inplace=False)\n",
      "  )\n",
      "  (conv_block_3): BlockChoi(\n",
      "    (conv): Conv2dSame(128, 256, kernel_size=(3, 3), stride=(1, 1))\n",
      "    (bn): BatchNorm2d(256, eps=1e-05, momentum=0.1, affine=True, track_running_stats=True)\n",
      "    (activation): ELU(alpha=1.0)\n",
      "    (pool): MaxPool2d(kernel_size=(2, 2), stride=(2, 2), padding=0, dilation=1, ceil_mode=False)\n",
      "    (dropout): Dropout(p=0.1, inplace=False)\n",
      "  )\n",
      "  (conv_block_4): BlockChoi(\n",
      "    (conv): Conv2dSame(256, 256, kernel_size=(3, 3), stride=(1, 1))\n",
      "    (bn): BatchNorm2d(256, eps=1e-05, momentum=0.1, affine=True, track_running_stats=True)\n",
      "    (activation): ELU(alpha=1.0)\n",
      "    (pool): MaxPool2d(kernel_size=(2, 2), stride=(2, 2), padding=0, dilation=1, ceil_mode=False)\n",
      "    (dropout): Dropout(p=0.1, inplace=False)\n",
      "  )\n",
      "  (conv_block_5): BlockChoi(\n",
      "    (conv): Conv2dSame(256, 646, kernel_size=(3, 3), stride=(1, 1))\n",
      "    (bn): BatchNorm2d(646, eps=1e-05, momentum=0.1, affine=True, track_running_stats=True)\n",
      "    (activation): ELU(alpha=1.0)\n",
      "    (pool): AvgPool2d(kernel_size=(2, 2), stride=(2, 2), padding=0)\n",
      "    (dropout): Dropout(p=0.1, inplace=False)\n",
      "  )\n",
      ")\n"
     ]
    }
   ],
   "source": [
    "stack_dict = {\"list_out_channels\":[64,128,128,256,256,646], \n",
    "              \"list_kernel_sizes\":[(3,3),(3,3),(3,3),(3,3),(3,3),(3,3)],\n",
    "              \"list_pool_sizes\":  [(2,2),(2,2),(2,2),(2,2),(2,2),(2,2)], \n",
    "              \"list_avgpool_flags\":[False,False,False,False,False,True]}\n",
    "\n",
    "conv_stack = ConvStack(stack_dict)\n",
    "print(conv_stack)"
   ]
  },
  {
   "cell_type": "code",
   "execution_count": 9,
   "id": "partial-bennett",
   "metadata": {},
   "outputs": [
    {
     "data": {
      "text/plain": [
       "2599314"
      ]
     },
     "execution_count": 9,
     "metadata": {},
     "output_type": "execute_result"
    }
   ],
   "source": [
    "sum(p.numel() for p in conv_stack.parameters() if p.requires_grad)"
   ]
  },
  {
   "cell_type": "code",
   "execution_count": 10,
   "id": "preliminary-briefing",
   "metadata": {},
   "outputs": [
    {
     "data": {
      "text/plain": [
       "torch.Size([32, 646, 10])"
      ]
     },
     "execution_count": 10,
     "metadata": {},
     "output_type": "execute_result"
    }
   ],
   "source": [
    "conv_stack(torch.rand((32,1,64,646))).shape"
   ]
  },
  {
   "cell_type": "markdown",
   "id": "regulated-compiler",
   "metadata": {},
   "source": [
    "# Remember frequency batchnorm as first layer"
   ]
  },
  {
   "cell_type": "code",
   "execution_count": null,
   "id": "changed-decade",
   "metadata": {},
   "outputs": [],
   "source": []
  }
 ],
 "metadata": {
  "kernelspec": {
   "display_name": "dl4am",
   "language": "python",
   "name": "dl4am"
  },
  "language_info": {
   "codemirror_mode": {
    "name": "ipython",
    "version": 3
   },
   "file_extension": ".py",
   "mimetype": "text/x-python",
   "name": "python",
   "nbconvert_exporter": "python",
   "pygments_lexer": "ipython3",
   "version": "3.7.4"
  }
 },
 "nbformat": 4,
 "nbformat_minor": 5
}
