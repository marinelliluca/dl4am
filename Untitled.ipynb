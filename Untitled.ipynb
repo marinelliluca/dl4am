{
 "cells": [
  {
   "cell_type": "code",
   "execution_count": 1,
   "id": "drawn-vessel",
   "metadata": {},
   "outputs": [],
   "source": [
    "import numpy as np\n",
    "import torch\n",
    "import torch.nn as nn\n",
    "import torch.nn.functional as F\n",
    "\n",
    "from training.frontend import Frontend_mine, Frontend_won\n",
    "from training.backend import Backend"
   ]
  },
  {
   "cell_type": "code",
   "execution_count": 2,
   "id": "refined-profit",
   "metadata": {},
   "outputs": [
    {
     "name": "stdout",
     "output_type": "stream",
     "text": [
      "Frontend_mine(\n",
      "  (freq_bn): BatchNorm2d(1, eps=1e-05, momentum=0.1, affine=True, track_running_stats=True)\n",
      "  (conv_block1): BlockChoi(\n",
      "    (conv): Conv2dSame(1, 128, kernel_size=(3, 3), stride=(1, 1))\n",
      "    (bn): BatchNorm2d(128, eps=1e-05, momentum=0.1, affine=True, track_running_stats=True)\n",
      "    (activation): ELU(alpha=1.0)\n",
      "    (pool): MaxPool2d(kernel_size=(3, 2), stride=(3, 2), padding=0, dilation=1, ceil_mode=False)\n",
      "    (dropout): Dropout(p=0.1, inplace=False)\n",
      "  )\n",
      "  (conv_block2): BlockChoi(\n",
      "    (conv): Conv2dSame(128, 128, kernel_size=(3, 3), stride=(1, 1))\n",
      "    (bn): BatchNorm2d(128, eps=1e-05, momentum=0.1, affine=True, track_running_stats=True)\n",
      "    (activation): ELU(alpha=1.0)\n",
      "    (pool): MaxPool2d(kernel_size=(2, 2), stride=(2, 2), padding=0, dilation=1, ceil_mode=False)\n",
      "    (dropout): Dropout(p=0.1, inplace=False)\n",
      "  )\n",
      "  (conv_block3): BlockChoi(\n",
      "    (conv): Conv2dSame(128, 128, kernel_size=(3, 3), stride=(1, 1))\n",
      "    (bn): BatchNorm2d(128, eps=1e-05, momentum=0.1, affine=True, track_running_stats=True)\n",
      "    (activation): ELU(alpha=1.0)\n",
      "    (pool): MaxPool2d(kernel_size=(2, 2), stride=(2, 2), padding=0, dilation=1, ceil_mode=False)\n",
      "    (dropout): Dropout(p=0.1, inplace=False)\n",
      "  )\n",
      "  (conv_block4): BlockChoi(\n",
      "    (conv): Conv2dSame(128, 256, kernel_size=(3, 3), stride=(1, 1))\n",
      "    (bn): BatchNorm2d(256, eps=1e-05, momentum=0.1, affine=True, track_running_stats=True)\n",
      "    (activation): ELU(alpha=1.0)\n",
      "    (pool): MaxPool2d(kernel_size=(2, 2), stride=(2, 2), padding=0, dilation=1, ceil_mode=False)\n",
      "    (dropout): Dropout(p=0.1, inplace=False)\n",
      "  )\n",
      "  (conv_block5): BlockChoi(\n",
      "    (conv): Conv2dSame(256, 256, kernel_size=(3, 3), stride=(1, 1))\n",
      "    (bn): BatchNorm2d(256, eps=1e-05, momentum=0.1, affine=True, track_running_stats=True)\n",
      "    (activation): ELU(alpha=1.0)\n",
      "    (pool): MaxPool2d(kernel_size=(2, 2), stride=(2, 2), padding=0, dilation=1, ceil_mode=False)\n",
      "    (dropout): Dropout(p=0.1, inplace=False)\n",
      "  )\n",
      "  (conv_block6): BlockChoi(\n",
      "    (conv): Conv2dSame(256, 256, kernel_size=(3, 3), stride=(1, 1))\n",
      "    (bn): BatchNorm2d(256, eps=1e-05, momentum=0.1, affine=True, track_running_stats=True)\n",
      "    (activation): ELU(alpha=1.0)\n",
      "    (pool): AvgPool2d(kernel_size=(2, 2), stride=(2, 2), padding=0)\n",
      "    (dropout): Dropout(p=0.1, inplace=False)\n",
      "  )\n",
      ")\n",
      "1774082\n"
     ]
    }
   ],
   "source": [
    "stack_dict = {\"list_out_channels\":[128,128,128,256,256,256], \n",
    "              \"list_kernel_sizes\":[(3,3),(3,3),(3,3),(3,3),(3,3),(3,3)],\n",
    "              \"list_pool_sizes\":  [(3,2),(2,2),(2,2),(2,2),(2,2),(2,2)], \n",
    "              \"list_avgpool_flags\":[False,False,False,False,False,True]}\n",
    "\n",
    "frontend_mine = Frontend_mine(stack_dict)\n",
    "print(frontend_mine)\n",
    "print(sum(p.numel() for p in frontend_mine.parameters() if p.requires_grad))"
   ]
  },
  {
   "cell_type": "code",
   "execution_count": 3,
   "id": "informational-alberta",
   "metadata": {},
   "outputs": [
    {
     "name": "stdout",
     "output_type": "stream",
     "text": [
      "Frontend_won(\n",
      "  (spec_bn): BatchNorm2d(1, eps=1e-05, momentum=0.1, affine=True, track_running_stats=True)\n",
      "  (layer1): Res_2d(\n",
      "    (conv_1): Conv2d(1, 128, kernel_size=(3, 3), stride=(2, 2), padding=(1, 1))\n",
      "    (bn_1): BatchNorm2d(128, eps=1e-05, momentum=0.1, affine=True, track_running_stats=True)\n",
      "    (conv_2): Conv2d(128, 128, kernel_size=(3, 3), stride=(1, 1), padding=(1, 1))\n",
      "    (bn_2): BatchNorm2d(128, eps=1e-05, momentum=0.1, affine=True, track_running_stats=True)\n",
      "    (conv_3): Conv2d(1, 128, kernel_size=(3, 3), stride=(2, 2), padding=(1, 1))\n",
      "    (bn_3): BatchNorm2d(128, eps=1e-05, momentum=0.1, affine=True, track_running_stats=True)\n",
      "    (relu): ReLU()\n",
      "  )\n",
      "  (layer2): Res_2d(\n",
      "    (conv_1): Conv2d(128, 128, kernel_size=(3, 3), stride=(2, 2), padding=(1, 1))\n",
      "    (bn_1): BatchNorm2d(128, eps=1e-05, momentum=0.1, affine=True, track_running_stats=True)\n",
      "    (conv_2): Conv2d(128, 128, kernel_size=(3, 3), stride=(1, 1), padding=(1, 1))\n",
      "    (bn_2): BatchNorm2d(128, eps=1e-05, momentum=0.1, affine=True, track_running_stats=True)\n",
      "    (conv_3): Conv2d(128, 128, kernel_size=(3, 3), stride=(2, 2), padding=(1, 1))\n",
      "    (bn_3): BatchNorm2d(128, eps=1e-05, momentum=0.1, affine=True, track_running_stats=True)\n",
      "    (relu): ReLU()\n",
      "  )\n",
      "  (layer3): Res_2d(\n",
      "    (conv_1): Conv2d(128, 256, kernel_size=(3, 3), stride=(2, 2), padding=(1, 1))\n",
      "    (bn_1): BatchNorm2d(256, eps=1e-05, momentum=0.1, affine=True, track_running_stats=True)\n",
      "    (conv_2): Conv2d(256, 256, kernel_size=(3, 3), stride=(1, 1), padding=(1, 1))\n",
      "    (bn_2): BatchNorm2d(256, eps=1e-05, momentum=0.1, affine=True, track_running_stats=True)\n",
      "    (conv_3): Conv2d(128, 256, kernel_size=(3, 3), stride=(2, 2), padding=(1, 1))\n",
      "    (bn_3): BatchNorm2d(256, eps=1e-05, momentum=0.1, affine=True, track_running_stats=True)\n",
      "    (relu): ReLU()\n",
      "  )\n",
      "  (layer4): Res_2d(\n",
      "    (conv_1): Conv2d(256, 256, kernel_size=(3, 3), stride=(2, 1), padding=(1, 1))\n",
      "    (bn_1): BatchNorm2d(256, eps=1e-05, momentum=0.1, affine=True, track_running_stats=True)\n",
      "    (conv_2): Conv2d(256, 256, kernel_size=(3, 3), stride=(1, 1), padding=(1, 1))\n",
      "    (bn_2): BatchNorm2d(256, eps=1e-05, momentum=0.1, affine=True, track_running_stats=True)\n",
      "    (conv_3): Conv2d(256, 256, kernel_size=(3, 3), stride=(2, 1), padding=(1, 1))\n",
      "    (bn_3): BatchNorm2d(256, eps=1e-05, momentum=0.1, affine=True, track_running_stats=True)\n",
      "    (relu): ReLU()\n",
      "  )\n",
      "  (layer5): Res_2d(\n",
      "    (conv_1): Conv2d(256, 256, kernel_size=(3, 3), stride=(2, 1), padding=(1, 1))\n",
      "    (bn_1): BatchNorm2d(256, eps=1e-05, momentum=0.1, affine=True, track_running_stats=True)\n",
      "    (conv_2): Conv2d(256, 256, kernel_size=(3, 3), stride=(1, 1), padding=(1, 1))\n",
      "    (bn_2): BatchNorm2d(256, eps=1e-05, momentum=0.1, affine=True, track_running_stats=True)\n",
      "    (conv_3): Conv2d(256, 256, kernel_size=(3, 3), stride=(2, 1), padding=(1, 1))\n",
      "    (bn_3): BatchNorm2d(256, eps=1e-05, momentum=0.1, affine=True, track_running_stats=True)\n",
      "    (relu): ReLU()\n",
      "  )\n",
      "  (layer6): Res_2d(\n",
      "    (conv_1): Conv2d(256, 256, kernel_size=(3, 3), stride=(2, 1), padding=(1, 1))\n",
      "    (bn_1): BatchNorm2d(256, eps=1e-05, momentum=0.1, affine=True, track_running_stats=True)\n",
      "    (conv_2): Conv2d(256, 256, kernel_size=(3, 3), stride=(1, 1), padding=(1, 1))\n",
      "    (bn_2): BatchNorm2d(256, eps=1e-05, momentum=0.1, affine=True, track_running_stats=True)\n",
      "    (conv_3): Conv2d(256, 256, kernel_size=(3, 3), stride=(2, 1), padding=(1, 1))\n",
      "    (bn_3): BatchNorm2d(256, eps=1e-05, momentum=0.1, affine=True, track_running_stats=True)\n",
      "    (relu): ReLU()\n",
      "  )\n",
      "  (layer7): Res_2d(\n",
      "    (conv_1): Conv2d(256, 256, kernel_size=(3, 3), stride=(2, 1), padding=(1, 1))\n",
      "    (bn_1): BatchNorm2d(256, eps=1e-05, momentum=0.1, affine=True, track_running_stats=True)\n",
      "    (conv_2): Conv2d(256, 256, kernel_size=(3, 3), stride=(1, 1), padding=(1, 1))\n",
      "    (bn_2): BatchNorm2d(256, eps=1e-05, momentum=0.1, affine=True, track_running_stats=True)\n",
      "    (conv_3): Conv2d(256, 256, kernel_size=(3, 3), stride=(2, 1), padding=(1, 1))\n",
      "    (bn_3): BatchNorm2d(256, eps=1e-05, momentum=0.1, affine=True, track_running_stats=True)\n",
      "    (relu): ReLU()\n",
      "  )\n",
      ")\n",
      "8863490\n"
     ]
    }
   ],
   "source": [
    "frontend_won = Frontend_won()\n",
    "print(frontend_won)\n",
    "print(sum(p.numel() for p in frontend_won.parameters() if p.requires_grad))"
   ]
  },
  {
   "cell_type": "code",
   "execution_count": 4,
   "id": "necessary-catalog",
   "metadata": {},
   "outputs": [
    {
     "name": "stdout",
     "output_type": "stream",
     "text": [
      "Backend(\n",
      "  (seq2seq): GRU(256, 256, num_layers=2, batch_first=True)\n",
      "  (encoder): BertEncoder(\n",
      "    (layer): ModuleList(\n",
      "      (0): BertLayer(\n",
      "        (attention): BertAttention(\n",
      "          (self): BertSelfAttention(\n",
      "            (query): Linear(in_features=256, out_features=256, bias=True)\n",
      "            (key): Linear(in_features=256, out_features=256, bias=True)\n",
      "            (value): Linear(in_features=256, out_features=256, bias=True)\n",
      "            (dropout): Dropout(p=0.5, inplace=False)\n",
      "          )\n",
      "          (output): BertSelfOutput(\n",
      "            (dense): Linear(in_features=256, out_features=256, bias=True)\n",
      "            (LayerNorm): BertLayerNorm()\n",
      "            (dropout): Dropout(p=0.4, inplace=False)\n",
      "          )\n",
      "        )\n",
      "        (intermediate): BertIntermediate(\n",
      "          (dense): Linear(in_features=256, out_features=1024, bias=True)\n",
      "        )\n",
      "        (output): BertOutput(\n",
      "          (dense): Linear(in_features=1024, out_features=256, bias=True)\n",
      "          (LayerNorm): BertLayerNorm()\n",
      "          (dropout): Dropout(p=0.4, inplace=False)\n",
      "        )\n",
      "      )\n",
      "      (1): BertLayer(\n",
      "        (attention): BertAttention(\n",
      "          (self): BertSelfAttention(\n",
      "            (query): Linear(in_features=256, out_features=256, bias=True)\n",
      "            (key): Linear(in_features=256, out_features=256, bias=True)\n",
      "            (value): Linear(in_features=256, out_features=256, bias=True)\n",
      "            (dropout): Dropout(p=0.5, inplace=False)\n",
      "          )\n",
      "          (output): BertSelfOutput(\n",
      "            (dense): Linear(in_features=256, out_features=256, bias=True)\n",
      "            (LayerNorm): BertLayerNorm()\n",
      "            (dropout): Dropout(p=0.4, inplace=False)\n",
      "          )\n",
      "        )\n",
      "        (intermediate): BertIntermediate(\n",
      "          (dense): Linear(in_features=256, out_features=1024, bias=True)\n",
      "        )\n",
      "        (output): BertOutput(\n",
      "          (dense): Linear(in_features=1024, out_features=256, bias=True)\n",
      "          (LayerNorm): BertLayerNorm()\n",
      "          (dropout): Dropout(p=0.4, inplace=False)\n",
      "        )\n",
      "      )\n",
      "    )\n",
      "  )\n",
      "  (pooler): BertPooler(\n",
      "    (dense): Linear(in_features=256, out_features=256, bias=True)\n",
      "    (activation): ELU(alpha=1.0)\n",
      "  )\n",
      "  (dropout): Dropout(p=0.5, inplace=False)\n",
      "  (dense): Linear(in_features=256, out_features=50, bias=True)\n",
      ")\n",
      "2447666\n"
     ]
    }
   ],
   "source": [
    "backend = Backend(recurrent=True)\n",
    "print(backend)\n",
    "print(sum(p.numel() for p in backend.parameters() if p.requires_grad))"
   ]
  },
  {
   "cell_type": "code",
   "execution_count": 5,
   "id": "medieval-provincial",
   "metadata": {},
   "outputs": [],
   "source": [
    "spec = torch.FloatTensor(np.load(\"/import/c4dm-datasets/rmri_self_att/msd/1/1/113801.npy\")[np.newaxis,np.newaxis,:,:])"
   ]
  },
  {
   "cell_type": "code",
   "execution_count": 6,
   "id": "available-patio",
   "metadata": {},
   "outputs": [
    {
     "name": "stdout",
     "output_type": "stream",
     "text": [
      "torch.Size([1, 256, 469])\n",
      "torch.Size([1, 50])\n"
     ]
    }
   ],
   "source": [
    "print(frontend_won(spec).shape)\n",
    "print(backend(frontend_won(spec)).shape)"
   ]
  },
  {
   "cell_type": "code",
   "execution_count": 7,
   "id": "asian-atlas",
   "metadata": {},
   "outputs": [
    {
     "name": "stdout",
     "output_type": "stream",
     "text": [
      "torch.Size([1, 256, 58])\n",
      "torch.Size([1, 50])\n"
     ]
    }
   ],
   "source": [
    "print(frontend_mine(spec).shape)\n",
    "print(backend(frontend_mine(spec)).shape)"
   ]
  },
  {
   "cell_type": "markdown",
   "id": "fifth-queen",
   "metadata": {},
   "source": [
    "# https://github.com/minzwon/sota-music-tagging-models/tree/master/training"
   ]
  }
 ],
 "metadata": {
  "kernelspec": {
   "display_name": "dl4am",
   "language": "python",
   "name": "dl4am"
  },
  "language_info": {
   "codemirror_mode": {
    "name": "ipython",
    "version": 3
   },
   "file_extension": ".py",
   "mimetype": "text/x-python",
   "name": "python",
   "nbconvert_exporter": "python",
   "pygments_lexer": "ipython3",
   "version": "3.7.4"
  }
 },
 "nbformat": 4,
 "nbformat_minor": 5
}
