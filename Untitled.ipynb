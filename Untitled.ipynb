{
 "cells": [
  {
   "cell_type": "code",
   "execution_count": 1,
   "id": "sporting-allergy",
   "metadata": {},
   "outputs": [],
   "source": [
    "import torch\n",
    "import torch.nn as nn\n",
    "import torch.nn.functional as F"
   ]
  },
  {
   "cell_type": "code",
   "execution_count": 2,
   "id": "danish-mapping",
   "metadata": {},
   "outputs": [],
   "source": [
    "from architectures.front.conv import BlockChoi"
   ]
  },
  {
   "cell_type": "code",
   "execution_count": 3,
   "id": "flexible-victorian",
   "metadata": {},
   "outputs": [
    {
     "data": {
      "text/plain": [
       "torch.Size([32, 16, 1, 500])"
      ]
     },
     "execution_count": 3,
     "metadata": {},
     "output_type": "execute_result"
    }
   ],
   "source": [
    "m = BlockChoi(3,16,(3,3),(2,2),True)\n",
    "m(torch.rand((32,3,2,1000))).shape"
   ]
  },
  {
   "cell_type": "code",
   "execution_count": 4,
   "id": "worse-angel",
   "metadata": {},
   "outputs": [
    {
     "data": {
      "text/plain": [
       "480"
      ]
     },
     "execution_count": 4,
     "metadata": {},
     "output_type": "execute_result"
    }
   ],
   "source": [
    "sum(p.numel() for p in m.parameters() if p.requires_grad)"
   ]
  },
  {
   "cell_type": "code",
   "execution_count": 5,
   "id": "bronze-worth",
   "metadata": {},
   "outputs": [
    {
     "name": "stdout",
     "output_type": "stream",
     "text": [
      "BlockChoi(\n",
      "  (conv): Conv2dSame(3, 16, kernel_size=(3, 3), stride=(1, 1))\n",
      "  (bn): BatchNorm2d(16, eps=1e-05, momentum=0.1, affine=True, track_running_stats=True)\n",
      "  (activation): ELU(alpha=1.0)\n",
      "  (pool): AvgPool2d(kernel_size=(2, 2), stride=(2, 2), padding=0)\n",
      "  (dropout): Dropout(p=0.1, inplace=False)\n",
      ")\n"
     ]
    }
   ],
   "source": [
    "print(m)"
   ]
  },
  {
   "cell_type": "code",
   "execution_count": 6,
   "id": "activated-clearing",
   "metadata": {},
   "outputs": [],
   "source": [
    "from architectures.stacker import ConvStack"
   ]
  },
  {
   "cell_type": "code",
   "execution_count": 7,
   "id": "directed-project",
   "metadata": {},
   "outputs": [
    {
     "name": "stdout",
     "output_type": "stream",
     "text": [
      "ConvStack(\n",
      "  (conv_block_0): BlockChoi(\n",
      "    (conv): Conv2dSame(1, 128, kernel_size=(3, 3), stride=(1, 1))\n",
      "    (bn): BatchNorm2d(128, eps=1e-05, momentum=0.1, affine=True, track_running_stats=True)\n",
      "    (activation): ELU(alpha=1.0)\n",
      "    (pool): MaxPool2d(kernel_size=(3, 2), stride=(3, 2), padding=0, dilation=1, ceil_mode=False)\n",
      "    (dropout): Dropout(p=0.1, inplace=False)\n",
      "  )\n",
      "  (conv_block_1): BlockChoi(\n",
      "    (conv): Conv2dSame(128, 128, kernel_size=(3, 3), stride=(1, 1))\n",
      "    (bn): BatchNorm2d(128, eps=1e-05, momentum=0.1, affine=True, track_running_stats=True)\n",
      "    (activation): ELU(alpha=1.0)\n",
      "    (pool): MaxPool2d(kernel_size=(2, 2), stride=(2, 2), padding=0, dilation=1, ceil_mode=False)\n",
      "    (dropout): Dropout(p=0.1, inplace=False)\n",
      "  )\n",
      "  (conv_block_2): BlockChoi(\n",
      "    (conv): Conv2dSame(128, 128, kernel_size=(3, 3), stride=(1, 1))\n",
      "    (bn): BatchNorm2d(128, eps=1e-05, momentum=0.1, affine=True, track_running_stats=True)\n",
      "    (activation): ELU(alpha=1.0)\n",
      "    (pool): MaxPool2d(kernel_size=(2, 2), stride=(2, 2), padding=0, dilation=1, ceil_mode=False)\n",
      "    (dropout): Dropout(p=0.1, inplace=False)\n",
      "  )\n",
      "  (conv_block_3): BlockChoi(\n",
      "    (conv): Conv2dSame(128, 256, kernel_size=(3, 3), stride=(1, 1))\n",
      "    (bn): BatchNorm2d(256, eps=1e-05, momentum=0.1, affine=True, track_running_stats=True)\n",
      "    (activation): ELU(alpha=1.0)\n",
      "    (pool): MaxPool2d(kernel_size=(2, 2), stride=(2, 2), padding=0, dilation=1, ceil_mode=False)\n",
      "    (dropout): Dropout(p=0.1, inplace=False)\n",
      "  )\n",
      "  (conv_block_4): BlockChoi(\n",
      "    (conv): Conv2dSame(256, 256, kernel_size=(3, 3), stride=(1, 1))\n",
      "    (bn): BatchNorm2d(256, eps=1e-05, momentum=0.1, affine=True, track_running_stats=True)\n",
      "    (activation): ELU(alpha=1.0)\n",
      "    (pool): MaxPool2d(kernel_size=(2, 2), stride=(2, 2), padding=0, dilation=1, ceil_mode=False)\n",
      "    (dropout): Dropout(p=0.1, inplace=False)\n",
      "  )\n",
      "  (conv_block_5): BlockChoi(\n",
      "    (conv): Conv2dSame(256, 256, kernel_size=(3, 3), stride=(1, 1))\n",
      "    (bn): BatchNorm2d(256, eps=1e-05, momentum=0.1, affine=True, track_running_stats=True)\n",
      "    (activation): ELU(alpha=1.0)\n",
      "    (pool): AvgPool2d(kernel_size=(2, 2), stride=(2, 2), padding=0)\n",
      "    (dropout): Dropout(p=0.1, inplace=False)\n",
      "  )\n",
      ")\n"
     ]
    }
   ],
   "source": [
    "stack_dict = {\"list_out_channels\":[128,128,128,256,256,256], \n",
    "              \"list_kernel_sizes\":[(3,3),(3,3),(3,3),(3,3),(3,3),(3,3)],\n",
    "              \"list_pool_sizes\":  [(3,2),(2,2),(2,2),(2,2),(2,2),(2,2)], \n",
    "              \"list_avgpool_flags\":[False,False,False,False,False,True]}\n",
    "\n",
    "conv_stack = ConvStack(stack_dict)\n",
    "print(conv_stack)"
   ]
  },
  {
   "cell_type": "code",
   "execution_count": 8,
   "id": "exclusive-vitamin",
   "metadata": {},
   "outputs": [
    {
     "data": {
      "text/plain": [
       "1774080"
      ]
     },
     "execution_count": 8,
     "metadata": {},
     "output_type": "execute_result"
    }
   ],
   "source": [
    "sum(p.numel() for p in conv_stack.parameters() if p.requires_grad)"
   ]
  },
  {
   "cell_type": "code",
   "execution_count": 9,
   "id": "loaded-politics",
   "metadata": {},
   "outputs": [],
   "source": [
    "from architectures.self_att_won import *"
   ]
  },
  {
   "cell_type": "code",
   "execution_count": 10,
   "id": "conservative-orleans",
   "metadata": {},
   "outputs": [],
   "source": [
    "class Frontend_won(nn.Module):\n",
    "    '''\n",
    "    Won et al. 2019\n",
    "    Toward interpretable music tagging with self-attention.\n",
    "    Feature extraction with CNN \n",
    "    '''\n",
    "    def __init__(self,\n",
    "                 n_channels=128):\n",
    "        super(Frontend_won, self).__init__()\n",
    "        \n",
    "        self.spec_bn = nn.BatchNorm2d(1)\n",
    "\n",
    "        # CNN\n",
    "        self.layer1 = Res_2d(1, n_channels, stride=2)\n",
    "        self.layer2 = Res_2d(n_channels, n_channels, stride=2)\n",
    "        self.layer3 = Res_2d(n_channels, n_channels*2, stride=2)\n",
    "        self.layer4 = Res_2d(n_channels*2, n_channels*2, stride=(2, 1))\n",
    "        self.layer5 = Res_2d(n_channels*2, n_channels*2, stride=(2, 1))\n",
    "        self.layer6 = Res_2d(n_channels*2, n_channels*2, stride=(2, 1))\n",
    "        self.layer7 = Res_2d(n_channels*2, n_channels*2, stride=(2, 1))\n",
    "\n",
    "    def forward(self, x):\n",
    "        \n",
    "        # IT'S HERE THAT WE CAN PERMUTE THE INPUT AXES\n",
    "        # TO PERFORM FREQ_BATCH_NORM\n",
    "        x = self.spec_bn(x)\n",
    "\n",
    "        # CNN\n",
    "        x = self.layer1(x)\n",
    "        x = self.layer2(x)\n",
    "        x = self.layer3(x)\n",
    "        x = self.layer4(x)\n",
    "        x = self.layer5(x)\n",
    "        x = self.layer6(x)\n",
    "        x = self.layer7(x)\n",
    "        x = x.squeeze(2)\n",
    "        \n",
    "        return x"
   ]
  },
  {
   "cell_type": "code",
   "execution_count": 11,
   "id": "commercial-briefing",
   "metadata": {},
   "outputs": [],
   "source": [
    "class Backend(nn.Module):\n",
    "    '''\n",
    "    Won et al. 2019\n",
    "    Toward interpretable music tagging with self-attention.\n",
    "    Temporal summary with Transformer encoder.\n",
    "    '''\n",
    "    def __init__(self,recurrent=False,n_class=50):\n",
    "        super(Backend, self).__init__()\n",
    "\n",
    "        if recurrent:\n",
    "            self.gru = nn.GRU(256, 256, 1, batch_first=True) # input and output = (batch, seq, feature)\n",
    "            \n",
    "        # Transformer encoder\n",
    "        bert_config = BertConfig(vocab_size=256,\n",
    "                                 hidden_size=256,\n",
    "                                 num_hidden_layers=2,\n",
    "                                 num_attention_heads=8,\n",
    "                                 intermediate_size=1024,\n",
    "                                 hidden_act=\"gelu\",\n",
    "                                 hidden_dropout_prob=0.4,\n",
    "                                 max_position_embeddings=700,\n",
    "                                 attention_probs_dropout_prob=0.5)\n",
    "        self.encoder = BertEncoder(bert_config)\n",
    "        self.pooler = BertPooler(bert_config)\n",
    "        self.vec_cls = self.get_cls(256)\n",
    "\n",
    "        # Dense\n",
    "        self.dropout = nn.Dropout(0.5)\n",
    "        self.dense = nn.Linear(256, n_class)\n",
    "\n",
    "    def get_cls(self, channel):\n",
    "        np.random.seed(0)\n",
    "        single_cls = torch.Tensor(np.random.random((1, channel)))\n",
    "        vec_cls = torch.cat([single_cls for _ in range(64)], dim=0)\n",
    "        vec_cls = vec_cls.unsqueeze(1)\n",
    "        return vec_cls\n",
    "\n",
    "    def append_cls(self, x):\n",
    "        batch, _, _ = x.size()\n",
    "        part_vec_cls = self.vec_cls[:batch].clone()\n",
    "        part_vec_cls = part_vec_cls.to(x.device)\n",
    "        return torch.cat([part_vec_cls, x], dim=1)\n",
    "\n",
    "    def forward(self, x):\n",
    "        \n",
    "        x = x.permute(0, 2, 1)\n",
    "        \n",
    "        x,_ = self.gru(x)\n",
    "        \n",
    "        # Get [CLS] token\n",
    "        x = self.append_cls(x)\n",
    "\n",
    "        # Transformer encoder\n",
    "        _,x = self.encoder(x)\n",
    "\n",
    "        x = self.pooler(x)\n",
    "\n",
    "        # Dense\n",
    "        x = self.dropout(x)\n",
    "        x = self.dense(x)\n",
    "        x = nn.Sigmoid()(x)\n",
    "\n",
    "        return x"
   ]
  },
  {
   "cell_type": "code",
   "execution_count": 12,
   "id": "crucial-township",
   "metadata": {},
   "outputs": [],
   "source": [
    "frontend = Frontend_won()\n",
    "backend = Backend(recurrent=True)"
   ]
  },
  {
   "cell_type": "code",
   "execution_count": 13,
   "id": "suffering-bunny",
   "metadata": {},
   "outputs": [
    {
     "name": "stdout",
     "output_type": "stream",
     "text": [
      "Frontend_won(\n",
      "  (spec_bn): BatchNorm2d(1, eps=1e-05, momentum=0.1, affine=True, track_running_stats=True)\n",
      "  (layer1): Res_2d(\n",
      "    (conv_1): Conv2d(1, 128, kernel_size=(3, 3), stride=(2, 2), padding=(1, 1))\n",
      "    (bn_1): BatchNorm2d(128, eps=1e-05, momentum=0.1, affine=True, track_running_stats=True)\n",
      "    (conv_2): Conv2d(128, 128, kernel_size=(3, 3), stride=(1, 1), padding=(1, 1))\n",
      "    (bn_2): BatchNorm2d(128, eps=1e-05, momentum=0.1, affine=True, track_running_stats=True)\n",
      "    (conv_3): Conv2d(1, 128, kernel_size=(3, 3), stride=(2, 2), padding=(1, 1))\n",
      "    (bn_3): BatchNorm2d(128, eps=1e-05, momentum=0.1, affine=True, track_running_stats=True)\n",
      "    (relu): ReLU()\n",
      "  )\n",
      "  (layer2): Res_2d(\n",
      "    (conv_1): Conv2d(128, 128, kernel_size=(3, 3), stride=(2, 2), padding=(1, 1))\n",
      "    (bn_1): BatchNorm2d(128, eps=1e-05, momentum=0.1, affine=True, track_running_stats=True)\n",
      "    (conv_2): Conv2d(128, 128, kernel_size=(3, 3), stride=(1, 1), padding=(1, 1))\n",
      "    (bn_2): BatchNorm2d(128, eps=1e-05, momentum=0.1, affine=True, track_running_stats=True)\n",
      "    (conv_3): Conv2d(128, 128, kernel_size=(3, 3), stride=(2, 2), padding=(1, 1))\n",
      "    (bn_3): BatchNorm2d(128, eps=1e-05, momentum=0.1, affine=True, track_running_stats=True)\n",
      "    (relu): ReLU()\n",
      "  )\n",
      "  (layer3): Res_2d(\n",
      "    (conv_1): Conv2d(128, 256, kernel_size=(3, 3), stride=(2, 2), padding=(1, 1))\n",
      "    (bn_1): BatchNorm2d(256, eps=1e-05, momentum=0.1, affine=True, track_running_stats=True)\n",
      "    (conv_2): Conv2d(256, 256, kernel_size=(3, 3), stride=(1, 1), padding=(1, 1))\n",
      "    (bn_2): BatchNorm2d(256, eps=1e-05, momentum=0.1, affine=True, track_running_stats=True)\n",
      "    (conv_3): Conv2d(128, 256, kernel_size=(3, 3), stride=(2, 2), padding=(1, 1))\n",
      "    (bn_3): BatchNorm2d(256, eps=1e-05, momentum=0.1, affine=True, track_running_stats=True)\n",
      "    (relu): ReLU()\n",
      "  )\n",
      "  (layer4): Res_2d(\n",
      "    (conv_1): Conv2d(256, 256, kernel_size=(3, 3), stride=(2, 1), padding=(1, 1))\n",
      "    (bn_1): BatchNorm2d(256, eps=1e-05, momentum=0.1, affine=True, track_running_stats=True)\n",
      "    (conv_2): Conv2d(256, 256, kernel_size=(3, 3), stride=(1, 1), padding=(1, 1))\n",
      "    (bn_2): BatchNorm2d(256, eps=1e-05, momentum=0.1, affine=True, track_running_stats=True)\n",
      "    (conv_3): Conv2d(256, 256, kernel_size=(3, 3), stride=(2, 1), padding=(1, 1))\n",
      "    (bn_3): BatchNorm2d(256, eps=1e-05, momentum=0.1, affine=True, track_running_stats=True)\n",
      "    (relu): ReLU()\n",
      "  )\n",
      "  (layer5): Res_2d(\n",
      "    (conv_1): Conv2d(256, 256, kernel_size=(3, 3), stride=(2, 1), padding=(1, 1))\n",
      "    (bn_1): BatchNorm2d(256, eps=1e-05, momentum=0.1, affine=True, track_running_stats=True)\n",
      "    (conv_2): Conv2d(256, 256, kernel_size=(3, 3), stride=(1, 1), padding=(1, 1))\n",
      "    (bn_2): BatchNorm2d(256, eps=1e-05, momentum=0.1, affine=True, track_running_stats=True)\n",
      "    (conv_3): Conv2d(256, 256, kernel_size=(3, 3), stride=(2, 1), padding=(1, 1))\n",
      "    (bn_3): BatchNorm2d(256, eps=1e-05, momentum=0.1, affine=True, track_running_stats=True)\n",
      "    (relu): ReLU()\n",
      "  )\n",
      "  (layer6): Res_2d(\n",
      "    (conv_1): Conv2d(256, 256, kernel_size=(3, 3), stride=(2, 1), padding=(1, 1))\n",
      "    (bn_1): BatchNorm2d(256, eps=1e-05, momentum=0.1, affine=True, track_running_stats=True)\n",
      "    (conv_2): Conv2d(256, 256, kernel_size=(3, 3), stride=(1, 1), padding=(1, 1))\n",
      "    (bn_2): BatchNorm2d(256, eps=1e-05, momentum=0.1, affine=True, track_running_stats=True)\n",
      "    (conv_3): Conv2d(256, 256, kernel_size=(3, 3), stride=(2, 1), padding=(1, 1))\n",
      "    (bn_3): BatchNorm2d(256, eps=1e-05, momentum=0.1, affine=True, track_running_stats=True)\n",
      "    (relu): ReLU()\n",
      "  )\n",
      "  (layer7): Res_2d(\n",
      "    (conv_1): Conv2d(256, 256, kernel_size=(3, 3), stride=(2, 1), padding=(1, 1))\n",
      "    (bn_1): BatchNorm2d(256, eps=1e-05, momentum=0.1, affine=True, track_running_stats=True)\n",
      "    (conv_2): Conv2d(256, 256, kernel_size=(3, 3), stride=(1, 1), padding=(1, 1))\n",
      "    (bn_2): BatchNorm2d(256, eps=1e-05, momentum=0.1, affine=True, track_running_stats=True)\n",
      "    (conv_3): Conv2d(256, 256, kernel_size=(3, 3), stride=(2, 1), padding=(1, 1))\n",
      "    (bn_3): BatchNorm2d(256, eps=1e-05, momentum=0.1, affine=True, track_running_stats=True)\n",
      "    (relu): ReLU()\n",
      "  )\n",
      ")\n",
      "Backend(\n",
      "  (gru): GRU(256, 256, batch_first=True)\n",
      "  (encoder): BertEncoder(\n",
      "    (layer): ModuleList(\n",
      "      (0): BertLayer(\n",
      "        (attention): BertAttention(\n",
      "          (self): BertSelfAttention(\n",
      "            (query): Linear(in_features=256, out_features=256, bias=True)\n",
      "            (key): Linear(in_features=256, out_features=256, bias=True)\n",
      "            (value): Linear(in_features=256, out_features=256, bias=True)\n",
      "            (dropout): Dropout(p=0.5, inplace=False)\n",
      "          )\n",
      "          (output): BertSelfOutput(\n",
      "            (dense): Linear(in_features=256, out_features=256, bias=True)\n",
      "            (LayerNorm): BertLayerNorm()\n",
      "            (dropout): Dropout(p=0.4, inplace=False)\n",
      "          )\n",
      "        )\n",
      "        (intermediate): BertIntermediate(\n",
      "          (dense): Linear(in_features=256, out_features=1024, bias=True)\n",
      "        )\n",
      "        (output): BertOutput(\n",
      "          (dense): Linear(in_features=1024, out_features=256, bias=True)\n",
      "          (LayerNorm): BertLayerNorm()\n",
      "          (dropout): Dropout(p=0.4, inplace=False)\n",
      "        )\n",
      "      )\n",
      "      (1): BertLayer(\n",
      "        (attention): BertAttention(\n",
      "          (self): BertSelfAttention(\n",
      "            (query): Linear(in_features=256, out_features=256, bias=True)\n",
      "            (key): Linear(in_features=256, out_features=256, bias=True)\n",
      "            (value): Linear(in_features=256, out_features=256, bias=True)\n",
      "            (dropout): Dropout(p=0.5, inplace=False)\n",
      "          )\n",
      "          (output): BertSelfOutput(\n",
      "            (dense): Linear(in_features=256, out_features=256, bias=True)\n",
      "            (LayerNorm): BertLayerNorm()\n",
      "            (dropout): Dropout(p=0.4, inplace=False)\n",
      "          )\n",
      "        )\n",
      "        (intermediate): BertIntermediate(\n",
      "          (dense): Linear(in_features=256, out_features=1024, bias=True)\n",
      "        )\n",
      "        (output): BertOutput(\n",
      "          (dense): Linear(in_features=1024, out_features=256, bias=True)\n",
      "          (LayerNorm): BertLayerNorm()\n",
      "          (dropout): Dropout(p=0.4, inplace=False)\n",
      "        )\n",
      "      )\n",
      "    )\n",
      "  )\n",
      "  (pooler): BertPooler(\n",
      "    (dense): Linear(in_features=256, out_features=256, bias=True)\n",
      "    (activation): Tanh()\n",
      "  )\n",
      "  (dropout): Dropout(p=0.5, inplace=False)\n",
      "  (dense): Linear(in_features=256, out_features=50, bias=True)\n",
      ")\n"
     ]
    }
   ],
   "source": [
    "print(frontend)\n",
    "print(backend)"
   ]
  },
  {
   "cell_type": "markdown",
   "id": "japanese-allocation",
   "metadata": {},
   "source": [
    "    def CRNNSA(nn.Module)\n",
    "        \"\"\"\n",
    "        Choi frontend + gated recurrent unit + Won backend\n",
    "        \"\"\"\n",
    "        def __init__(self,n_class=50):\n",
    "            super(CRNNSA, self).__init__()"
   ]
  },
  {
   "cell_type": "code",
   "execution_count": 17,
   "id": "smart-fossil",
   "metadata": {},
   "outputs": [
    {
     "name": "stdout",
     "output_type": "stream",
     "text": [
      "8863490\n",
      "2052914\n"
     ]
    }
   ],
   "source": [
    "print(sum(p.numel() for p in frontend.parameters() if p.requires_grad))\n",
    "print(sum(p.numel() for p in backend.parameters() if p.requires_grad))"
   ]
  },
  {
   "cell_type": "code",
   "execution_count": 18,
   "id": "substantial-cabinet",
   "metadata": {},
   "outputs": [],
   "source": [
    "spec = torch.FloatTensor(np.load(\"/import/c4dm-datasets/rmri_self_att/msd/1/1/113801.npy\")[np.newaxis,np.newaxis,:,:])"
   ]
  },
  {
   "cell_type": "code",
   "execution_count": 20,
   "id": "excited-stephen",
   "metadata": {},
   "outputs": [
    {
     "data": {
      "text/plain": [
       "torch.Size([1, 256, 469])"
      ]
     },
     "execution_count": 20,
     "metadata": {},
     "output_type": "execute_result"
    }
   ],
   "source": [
    "frontend(spec).shape"
   ]
  },
  {
   "cell_type": "code",
   "execution_count": 21,
   "id": "subjective-coverage",
   "metadata": {},
   "outputs": [
    {
     "data": {
      "text/plain": [
       "torch.Size([1, 256, 58])"
      ]
     },
     "execution_count": 21,
     "metadata": {},
     "output_type": "execute_result"
    }
   ],
   "source": [
    "conv_stack(spec).shape"
   ]
  },
  {
   "cell_type": "code",
   "execution_count": 23,
   "id": "resident-volume",
   "metadata": {},
   "outputs": [
    {
     "data": {
      "text/plain": [
       "torch.Size([32, 50])"
      ]
     },
     "execution_count": 23,
     "metadata": {},
     "output_type": "execute_result"
    }
   ],
   "source": [
    "backend(conv_stack(torch.rand((32,1,128,1292)))).shape"
   ]
  },
  {
   "cell_type": "code",
   "execution_count": 26,
   "id": "central-general",
   "metadata": {},
   "outputs": [
    {
     "data": {
      "text/plain": [
       "torch.Size([32, 50])"
      ]
     },
     "execution_count": 26,
     "metadata": {},
     "output_type": "execute_result"
    }
   ],
   "source": [
    "backend(frontend(torch.rand((32,1,128,1292)))).shape"
   ]
  },
  {
   "cell_type": "markdown",
   "id": "confused-protest",
   "metadata": {},
   "source": [
    "# https://github.com/minzwon/sota-music-tagging-models/tree/master/training\n",
    "\n",
    "# Remember frequency batchnorm as first \n"
   ]
  },
  {
   "cell_type": "code",
   "execution_count": null,
   "id": "illegal-master",
   "metadata": {},
   "outputs": [],
   "source": []
  },
  {
   "cell_type": "code",
   "execution_count": null,
   "id": "executive-interface",
   "metadata": {},
   "outputs": [],
   "source": []
  }
 ],
 "metadata": {
  "kernelspec": {
   "display_name": "dl4am",
   "language": "python",
   "name": "dl4am"
  },
  "language_info": {
   "codemirror_mode": {
    "name": "ipython",
    "version": 3
   },
   "file_extension": ".py",
   "mimetype": "text/x-python",
   "name": "python",
   "nbconvert_exporter": "python",
   "pygments_lexer": "ipython3",
   "version": "3.7.4"
  }
 },
 "nbformat": 4,
 "nbformat_minor": 5
}
