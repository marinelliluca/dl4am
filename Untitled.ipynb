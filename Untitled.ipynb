{
 "cells": [
  {
   "cell_type": "code",
   "execution_count": 1,
   "id": "banner-humidity",
   "metadata": {},
   "outputs": [],
   "source": [
    "import torch\n",
    "import torch.nn as nn\n",
    "import torch.nn.functional as F"
   ]
  },
  {
   "cell_type": "code",
   "execution_count": 2,
   "id": "cooked-minimum",
   "metadata": {},
   "outputs": [],
   "source": [
    "from architectures.front.conv import BlockChoi"
   ]
  },
  {
   "cell_type": "code",
   "execution_count": 3,
   "id": "raised-position",
   "metadata": {},
   "outputs": [
    {
     "data": {
      "text/plain": [
       "torch.Size([32, 16, 1, 500])"
      ]
     },
     "execution_count": 3,
     "metadata": {},
     "output_type": "execute_result"
    }
   ],
   "source": [
    "m = BlockChoi(3,16,(3,3),(2,2),True)\n",
    "m(torch.rand((32,3,2,1000))).shape"
   ]
  },
  {
   "cell_type": "code",
   "execution_count": 4,
   "id": "engaging-austin",
   "metadata": {},
   "outputs": [
    {
     "data": {
      "text/plain": [
       "480"
      ]
     },
     "execution_count": 4,
     "metadata": {},
     "output_type": "execute_result"
    }
   ],
   "source": [
    "sum(p.numel() for p in m.parameters() if p.requires_grad)"
   ]
  },
  {
   "cell_type": "code",
   "execution_count": 5,
   "id": "announced-matrix",
   "metadata": {},
   "outputs": [
    {
     "name": "stdout",
     "output_type": "stream",
     "text": [
      "BlockChoi(\n",
      "  (conv): Conv2dSame(3, 16, kernel_size=(3, 3), stride=(1, 1))\n",
      "  (bn): BatchNorm2d(16, eps=1e-05, momentum=0.1, affine=True, track_running_stats=True)\n",
      "  (activation): ELU(alpha=1.0)\n",
      "  (pool): AvgPool2d(kernel_size=(2, 2), stride=(2, 2), padding=0)\n",
      "  (dropout): Dropout(p=0.1, inplace=False)\n",
      ")\n"
     ]
    }
   ],
   "source": [
    "print(m)"
   ]
  },
  {
   "cell_type": "code",
   "execution_count": 6,
   "id": "driven-hayes",
   "metadata": {},
   "outputs": [],
   "source": [
    "from architectures.stacker import ConvStack"
   ]
  },
  {
   "cell_type": "code",
   "execution_count": 7,
   "id": "narrow-vitamin",
   "metadata": {},
   "outputs": [
    {
     "name": "stdout",
     "output_type": "stream",
     "text": [
      "ConvStack(\n",
      "  (conv_block_0): BlockChoi(\n",
      "    (conv): Conv2dSame(1, 256, kernel_size=(3, 3), stride=(1, 1))\n",
      "    (bn): BatchNorm2d(256, eps=1e-05, momentum=0.1, affine=True, track_running_stats=True)\n",
      "    (activation): ELU(alpha=1.0)\n",
      "    (pool): MaxPool2d(kernel_size=(2, 2), stride=(2, 2), padding=0, dilation=1, ceil_mode=False)\n",
      "    (dropout): Dropout(p=0.1, inplace=False)\n",
      "  )\n",
      "  (conv_block_1): BlockChoi(\n",
      "    (conv): Conv2dSame(256, 256, kernel_size=(3, 3), stride=(1, 1))\n",
      "    (bn): BatchNorm2d(256, eps=1e-05, momentum=0.1, affine=True, track_running_stats=True)\n",
      "    (activation): ELU(alpha=1.0)\n",
      "    (pool): MaxPool2d(kernel_size=(2, 2), stride=(2, 2), padding=0, dilation=1, ceil_mode=False)\n",
      "    (dropout): Dropout(p=0.1, inplace=False)\n",
      "  )\n",
      "  (conv_block_2): BlockChoi(\n",
      "    (conv): Conv2dSame(256, 256, kernel_size=(3, 3), stride=(1, 1))\n",
      "    (bn): BatchNorm2d(256, eps=1e-05, momentum=0.1, affine=True, track_running_stats=True)\n",
      "    (activation): ELU(alpha=1.0)\n",
      "    (pool): MaxPool2d(kernel_size=(2, 2), stride=(2, 2), padding=0, dilation=1, ceil_mode=False)\n",
      "    (dropout): Dropout(p=0.1, inplace=False)\n",
      "  )\n",
      "  (conv_block_3): BlockChoi(\n",
      "    (conv): Conv2dSame(256, 256, kernel_size=(3, 3), stride=(1, 1))\n",
      "    (bn): BatchNorm2d(256, eps=1e-05, momentum=0.1, affine=True, track_running_stats=True)\n",
      "    (activation): ELU(alpha=1.0)\n",
      "    (pool): MaxPool2d(kernel_size=(2, 1), stride=(2, 1), padding=0, dilation=1, ceil_mode=False)\n",
      "    (dropout): Dropout(p=0.1, inplace=False)\n",
      "  )\n",
      "  (conv_block_4): BlockChoi(\n",
      "    (conv): Conv2dSame(256, 256, kernel_size=(3, 3), stride=(1, 1))\n",
      "    (bn): BatchNorm2d(256, eps=1e-05, momentum=0.1, affine=True, track_running_stats=True)\n",
      "    (activation): ELU(alpha=1.0)\n",
      "    (pool): MaxPool2d(kernel_size=(2, 1), stride=(2, 1), padding=0, dilation=1, ceil_mode=False)\n",
      "    (dropout): Dropout(p=0.1, inplace=False)\n",
      "  )\n",
      "  (conv_block_5): BlockChoi(\n",
      "    (conv): Conv2dSame(256, 256, kernel_size=(3, 3), stride=(1, 1))\n",
      "    (bn): BatchNorm2d(256, eps=1e-05, momentum=0.1, affine=True, track_running_stats=True)\n",
      "    (activation): ELU(alpha=1.0)\n",
      "    (pool): MaxPool2d(kernel_size=(2, 1), stride=(2, 1), padding=0, dilation=1, ceil_mode=False)\n",
      "    (dropout): Dropout(p=0.1, inplace=False)\n",
      "  )\n",
      "  (conv_block_6): BlockChoi(\n",
      "    (conv): Conv2dSame(256, 256, kernel_size=(3, 3), stride=(1, 1))\n",
      "    (bn): BatchNorm2d(256, eps=1e-05, momentum=0.1, affine=True, track_running_stats=True)\n",
      "    (activation): ELU(alpha=1.0)\n",
      "    (pool): AvgPool2d(kernel_size=(2, 1), stride=(2, 1), padding=0)\n",
      "    (dropout): Dropout(p=0.1, inplace=False)\n",
      "  )\n",
      ")\n"
     ]
    }
   ],
   "source": [
    "stack_dict = {\"list_out_channels\":[256,256,256,256,256,256,256], \n",
    "              \"list_kernel_sizes\":[(3,3),(3,3),(3,3),(3,3),(3,3),(3,3),(3,3)],\n",
    "              \"list_pool_sizes\":  [(2,2),(2,2),(2,2),(2,1),(2,1),(2,1),(2,1)], \n",
    "              \"list_avgpool_flags\":[False,False,False,False,False,False,True]}\n",
    "\n",
    "conv_stack = ConvStack(stack_dict)\n",
    "print(conv_stack)"
   ]
  },
  {
   "cell_type": "code",
   "execution_count": 8,
   "id": "twelve-trailer",
   "metadata": {},
   "outputs": [
    {
     "data": {
      "text/plain": [
       "3546624"
      ]
     },
     "execution_count": 8,
     "metadata": {},
     "output_type": "execute_result"
    }
   ],
   "source": [
    "sum(p.numel() for p in conv_stack.parameters() if p.requires_grad)"
   ]
  },
  {
   "cell_type": "code",
   "execution_count": 9,
   "id": "digital-pickup",
   "metadata": {},
   "outputs": [],
   "source": [
    "from architectures.self_att_won import *"
   ]
  },
  {
   "cell_type": "code",
   "execution_count": 10,
   "id": "italic-syracuse",
   "metadata": {},
   "outputs": [],
   "source": [
    "class Front_end_won(nn.Module):\n",
    "    '''\n",
    "    Won et al. 2019\n",
    "    Toward interpretable music tagging with self-attention.\n",
    "    Feature extraction with CNN \n",
    "    '''\n",
    "    def __init__(self,\n",
    "                 n_channels=128):\n",
    "        super(Front_end_won, self).__init__()\n",
    "        \n",
    "        self.spec_bn = nn.BatchNorm2d(1)\n",
    "\n",
    "        # CNN\n",
    "        self.layer1 = Res_2d(1, n_channels, stride=2)\n",
    "        self.layer2 = Res_2d(n_channels, n_channels, stride=2)\n",
    "        self.layer3 = Res_2d(n_channels, n_channels*2, stride=2)\n",
    "        self.layer4 = Res_2d(n_channels*2, n_channels*2, stride=(2, 1))\n",
    "        self.layer5 = Res_2d(n_channels*2, n_channels*2, stride=(2, 1))\n",
    "        self.layer6 = Res_2d(n_channels*2, n_channels*2, stride=(2, 1))\n",
    "        self.layer7 = Res_2d(n_channels*2, n_channels*2, stride=(2, 1))\n",
    "\n",
    "    def forward(self, x):\n",
    "        \n",
    "        # IT'S HERE THAT WE CAN PERMUTE THE INPUT AXES\n",
    "        # TO PERFORM FREQ_BATCH_NORM\n",
    "        x = self.spec_bn(x)\n",
    "\n",
    "        # CNN\n",
    "        x = self.layer1(x)\n",
    "        x = self.layer2(x)\n",
    "        x = self.layer3(x)\n",
    "        x = self.layer4(x)\n",
    "        x = self.layer5(x)\n",
    "        x = self.layer6(x)\n",
    "        x = self.layer7(x)\n",
    "        x = x.squeeze(2)\n",
    "        \n",
    "        return x"
   ]
  },
  {
   "cell_type": "code",
   "execution_count": 11,
   "id": "narrow-birthday",
   "metadata": {},
   "outputs": [],
   "source": [
    "class Back_end_won(nn.Module):\n",
    "    '''\n",
    "    Won et al. 2019\n",
    "    Toward interpretable music tagging with self-attention.\n",
    "    Temporal summary with Transformer encoder.\n",
    "    '''\n",
    "    def __init__(self,n_class=50):\n",
    "        super(Back_end_won, self).__init__()\n",
    "\n",
    "        # Transformer encoder\n",
    "        bert_config = BertConfig(vocab_size=256,\n",
    "                                 hidden_size=256,\n",
    "                                 num_hidden_layers=2,\n",
    "                                 num_attention_heads=8,\n",
    "                                 intermediate_size=1024,\n",
    "                                 hidden_act=\"gelu\",\n",
    "                                 hidden_dropout_prob=0.4,\n",
    "                                 max_position_embeddings=700,\n",
    "                                 attention_probs_dropout_prob=0.5)\n",
    "        self.encoder = BertEncoder(bert_config)\n",
    "        self.pooler = BertPooler(bert_config)\n",
    "        self.vec_cls = self.get_cls(256)\n",
    "\n",
    "        # Dense\n",
    "        self.dropout = nn.Dropout(0.5)\n",
    "        self.dense = nn.Linear(256, n_class)\n",
    "\n",
    "    def get_cls(self, channel):\n",
    "        np.random.seed(0)\n",
    "        single_cls = torch.Tensor(np.random.random((1, channel)))\n",
    "        vec_cls = torch.cat([single_cls for _ in range(64)], dim=0)\n",
    "        vec_cls = vec_cls.unsqueeze(1)\n",
    "        return vec_cls\n",
    "\n",
    "    def append_cls(self, x):\n",
    "        batch, _, _ = x.size()\n",
    "        part_vec_cls = self.vec_cls[:batch].clone()\n",
    "        part_vec_cls = part_vec_cls.to(x.device)\n",
    "        return torch.cat([part_vec_cls, x], dim=1)\n",
    "\n",
    "    def forward(self, x):\n",
    "        \n",
    "        x = x.permute(0, 2, 1)\n",
    "        \n",
    "        # Get [CLS] token\n",
    "        x = self.append_cls(x)\n",
    "\n",
    "        # Transformer encoder\n",
    "        _,x = self.encoder(x)\n",
    "\n",
    "        x = self.pooler(x)\n",
    "\n",
    "        # Dense\n",
    "        x = self.dropout(x)\n",
    "        x = self.dense(x)\n",
    "        x = nn.Sigmoid()(x)\n",
    "\n",
    "        return x"
   ]
  },
  {
   "cell_type": "code",
   "execution_count": 12,
   "id": "prescription-gentleman",
   "metadata": {},
   "outputs": [],
   "source": [
    "front_end = Front_end_won()\n",
    "back_end = Back_end_won()"
   ]
  },
  {
   "cell_type": "code",
   "execution_count": 13,
   "id": "coordinate-scientist",
   "metadata": {},
   "outputs": [
    {
     "name": "stdout",
     "output_type": "stream",
     "text": [
      "Front_end_won(\n",
      "  (spec_bn): BatchNorm2d(1, eps=1e-05, momentum=0.1, affine=True, track_running_stats=True)\n",
      "  (layer1): Res_2d(\n",
      "    (conv_1): Conv2d(1, 128, kernel_size=(3, 3), stride=(2, 2), padding=(1, 1))\n",
      "    (bn_1): BatchNorm2d(128, eps=1e-05, momentum=0.1, affine=True, track_running_stats=True)\n",
      "    (conv_2): Conv2d(128, 128, kernel_size=(3, 3), stride=(1, 1), padding=(1, 1))\n",
      "    (bn_2): BatchNorm2d(128, eps=1e-05, momentum=0.1, affine=True, track_running_stats=True)\n",
      "    (conv_3): Conv2d(1, 128, kernel_size=(3, 3), stride=(2, 2), padding=(1, 1))\n",
      "    (bn_3): BatchNorm2d(128, eps=1e-05, momentum=0.1, affine=True, track_running_stats=True)\n",
      "    (relu): ReLU()\n",
      "  )\n",
      "  (layer2): Res_2d(\n",
      "    (conv_1): Conv2d(128, 128, kernel_size=(3, 3), stride=(2, 2), padding=(1, 1))\n",
      "    (bn_1): BatchNorm2d(128, eps=1e-05, momentum=0.1, affine=True, track_running_stats=True)\n",
      "    (conv_2): Conv2d(128, 128, kernel_size=(3, 3), stride=(1, 1), padding=(1, 1))\n",
      "    (bn_2): BatchNorm2d(128, eps=1e-05, momentum=0.1, affine=True, track_running_stats=True)\n",
      "    (conv_3): Conv2d(128, 128, kernel_size=(3, 3), stride=(2, 2), padding=(1, 1))\n",
      "    (bn_3): BatchNorm2d(128, eps=1e-05, momentum=0.1, affine=True, track_running_stats=True)\n",
      "    (relu): ReLU()\n",
      "  )\n",
      "  (layer3): Res_2d(\n",
      "    (conv_1): Conv2d(128, 256, kernel_size=(3, 3), stride=(2, 2), padding=(1, 1))\n",
      "    (bn_1): BatchNorm2d(256, eps=1e-05, momentum=0.1, affine=True, track_running_stats=True)\n",
      "    (conv_2): Conv2d(256, 256, kernel_size=(3, 3), stride=(1, 1), padding=(1, 1))\n",
      "    (bn_2): BatchNorm2d(256, eps=1e-05, momentum=0.1, affine=True, track_running_stats=True)\n",
      "    (conv_3): Conv2d(128, 256, kernel_size=(3, 3), stride=(2, 2), padding=(1, 1))\n",
      "    (bn_3): BatchNorm2d(256, eps=1e-05, momentum=0.1, affine=True, track_running_stats=True)\n",
      "    (relu): ReLU()\n",
      "  )\n",
      "  (layer4): Res_2d(\n",
      "    (conv_1): Conv2d(256, 256, kernel_size=(3, 3), stride=(2, 1), padding=(1, 1))\n",
      "    (bn_1): BatchNorm2d(256, eps=1e-05, momentum=0.1, affine=True, track_running_stats=True)\n",
      "    (conv_2): Conv2d(256, 256, kernel_size=(3, 3), stride=(1, 1), padding=(1, 1))\n",
      "    (bn_2): BatchNorm2d(256, eps=1e-05, momentum=0.1, affine=True, track_running_stats=True)\n",
      "    (conv_3): Conv2d(256, 256, kernel_size=(3, 3), stride=(2, 1), padding=(1, 1))\n",
      "    (bn_3): BatchNorm2d(256, eps=1e-05, momentum=0.1, affine=True, track_running_stats=True)\n",
      "    (relu): ReLU()\n",
      "  )\n",
      "  (layer5): Res_2d(\n",
      "    (conv_1): Conv2d(256, 256, kernel_size=(3, 3), stride=(2, 1), padding=(1, 1))\n",
      "    (bn_1): BatchNorm2d(256, eps=1e-05, momentum=0.1, affine=True, track_running_stats=True)\n",
      "    (conv_2): Conv2d(256, 256, kernel_size=(3, 3), stride=(1, 1), padding=(1, 1))\n",
      "    (bn_2): BatchNorm2d(256, eps=1e-05, momentum=0.1, affine=True, track_running_stats=True)\n",
      "    (conv_3): Conv2d(256, 256, kernel_size=(3, 3), stride=(2, 1), padding=(1, 1))\n",
      "    (bn_3): BatchNorm2d(256, eps=1e-05, momentum=0.1, affine=True, track_running_stats=True)\n",
      "    (relu): ReLU()\n",
      "  )\n",
      "  (layer6): Res_2d(\n",
      "    (conv_1): Conv2d(256, 256, kernel_size=(3, 3), stride=(2, 1), padding=(1, 1))\n",
      "    (bn_1): BatchNorm2d(256, eps=1e-05, momentum=0.1, affine=True, track_running_stats=True)\n",
      "    (conv_2): Conv2d(256, 256, kernel_size=(3, 3), stride=(1, 1), padding=(1, 1))\n",
      "    (bn_2): BatchNorm2d(256, eps=1e-05, momentum=0.1, affine=True, track_running_stats=True)\n",
      "    (conv_3): Conv2d(256, 256, kernel_size=(3, 3), stride=(2, 1), padding=(1, 1))\n",
      "    (bn_3): BatchNorm2d(256, eps=1e-05, momentum=0.1, affine=True, track_running_stats=True)\n",
      "    (relu): ReLU()\n",
      "  )\n",
      "  (layer7): Res_2d(\n",
      "    (conv_1): Conv2d(256, 256, kernel_size=(3, 3), stride=(2, 1), padding=(1, 1))\n",
      "    (bn_1): BatchNorm2d(256, eps=1e-05, momentum=0.1, affine=True, track_running_stats=True)\n",
      "    (conv_2): Conv2d(256, 256, kernel_size=(3, 3), stride=(1, 1), padding=(1, 1))\n",
      "    (bn_2): BatchNorm2d(256, eps=1e-05, momentum=0.1, affine=True, track_running_stats=True)\n",
      "    (conv_3): Conv2d(256, 256, kernel_size=(3, 3), stride=(2, 1), padding=(1, 1))\n",
      "    (bn_3): BatchNorm2d(256, eps=1e-05, momentum=0.1, affine=True, track_running_stats=True)\n",
      "    (relu): ReLU()\n",
      "  )\n",
      ")\n"
     ]
    }
   ],
   "source": [
    "print(front_end)"
   ]
  },
  {
   "cell_type": "code",
   "execution_count": 14,
   "id": "noble-example",
   "metadata": {},
   "outputs": [
    {
     "data": {
      "text/plain": [
       "8863490"
      ]
     },
     "execution_count": 14,
     "metadata": {},
     "output_type": "execute_result"
    }
   ],
   "source": [
    "sum(p.numel() for p in front_end.parameters() if p.requires_grad)"
   ]
  },
  {
   "cell_type": "code",
   "execution_count": 15,
   "id": "noble-party",
   "metadata": {},
   "outputs": [
    {
     "data": {
      "text/plain": [
       "torch.Size([32, 256, 162])"
      ]
     },
     "execution_count": 15,
     "metadata": {},
     "output_type": "execute_result"
    }
   ],
   "source": [
    "front_end(torch.rand((32,1,128,1292))).shape"
   ]
  },
  {
   "cell_type": "code",
   "execution_count": 16,
   "id": "short-future",
   "metadata": {},
   "outputs": [
    {
     "data": {
      "text/plain": [
       "torch.Size([32, 256, 161])"
      ]
     },
     "execution_count": 16,
     "metadata": {},
     "output_type": "execute_result"
    }
   ],
   "source": [
    "conv_stack(torch.rand((32,1,128,1292))).shape"
   ]
  },
  {
   "cell_type": "code",
   "execution_count": 17,
   "id": "sorted-cutting",
   "metadata": {},
   "outputs": [
    {
     "data": {
      "text/plain": [
       "torch.Size([32, 50])"
      ]
     },
     "execution_count": 17,
     "metadata": {},
     "output_type": "execute_result"
    }
   ],
   "source": [
    "back_end(conv_stack(torch.rand((32,1,128,1292)))).shape"
   ]
  },
  {
   "cell_type": "code",
   "execution_count": 18,
   "id": "seven-right",
   "metadata": {},
   "outputs": [
    {
     "data": {
      "text/plain": [
       "torch.Size([32, 50])"
      ]
     },
     "execution_count": 18,
     "metadata": {},
     "output_type": "execute_result"
    }
   ],
   "source": [
    "back_end(front_end(torch.rand((32,1,128,1292)))).shape"
   ]
  },
  {
   "cell_type": "markdown",
   "id": "fleet-providence",
   "metadata": {},
   "source": [
    "# https://github.com/minzwon/sota-music-tagging-models/tree/master/training\n",
    "\n",
    "# Remember frequency batchnorm as first \n"
   ]
  },
  {
   "cell_type": "code",
   "execution_count": null,
   "id": "posted-optimum",
   "metadata": {},
   "outputs": [],
   "source": []
  },
  {
   "cell_type": "code",
   "execution_count": null,
   "id": "mounted-bibliography",
   "metadata": {},
   "outputs": [],
   "source": []
  }
 ],
 "metadata": {
  "kernelspec": {
   "display_name": "dl4am",
   "language": "python",
   "name": "dl4am"
  },
  "language_info": {
   "codemirror_mode": {
    "name": "ipython",
    "version": 3
   },
   "file_extension": ".py",
   "mimetype": "text/x-python",
   "name": "python",
   "nbconvert_exporter": "python",
   "pygments_lexer": "ipython3",
   "version": "3.7.4"
  }
 },
 "nbformat": 4,
 "nbformat_minor": 5
}
